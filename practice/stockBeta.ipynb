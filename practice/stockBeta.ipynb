{
  "nbformat": 4,
  "nbformat_minor": 0,
  "metadata": {
    "colab": {
      "name": "stockBeta.ipynb",
      "provenance": [],
      "authorship_tag": "ABX9TyNpKUq+dCc0WpXPdXoBzOI6",
      "include_colab_link": true
    },
    "kernelspec": {
      "name": "python3",
      "display_name": "Python 3"
    },
    "language_info": {
      "name": "python"
    }
  },
  "cells": [
    {
      "cell_type": "markdown",
      "metadata": {
        "id": "view-in-github",
        "colab_type": "text"
      },
      "source": [
        "<a href=\"https://colab.research.google.com/github/Suvraneel/fcc-machine-learning-with-python/blob/fcc-practice/practice/stockBeta.ipynb\" target=\"_parent\"><img src=\"https://colab.research.google.com/assets/colab-badge.svg\" alt=\"Open In Colab\"/></a>"
      ]
    },
    {
      "cell_type": "code",
      "metadata": {
        "id": "sHztcGNOrkZ-"
      },
      "source": [
        "import pandas as pd\n",
        "import numpy as np\n",
        "import tensorflow as tf\n",
        "import os\n",
        "import matplotlib.pyplot as plt\n",
        "cwd = os.getcwd()"
      ],
      "execution_count": 21,
      "outputs": []
    },
    {
      "cell_type": "code",
      "metadata": {
        "colab": {
          "base_uri": "https://localhost:8080/"
        },
        "id": "pp0aAQYNrxlN",
        "outputId": "0b963137-ad0f-444c-8d05-ce5fbc539fd7"
      },
      "source": [
        "from google.colab import drive\n",
        "drive.mount(\"/content/drive\")"
      ],
      "execution_count": 22,
      "outputs": [
        {
          "output_type": "stream",
          "name": "stdout",
          "text": [
            "Drive already mounted at /content/drive; to attempt to forcibly remount, call drive.mount(\"/content/drive\", force_remount=True).\n"
          ]
        }
      ]
    },
    {
      "cell_type": "code",
      "metadata": {
        "colab": {
          "base_uri": "https://localhost:8080/",
          "height": 206
        },
        "id": "SxhrNV6jr2fC",
        "outputId": "2926783e-1b1d-4f94-d1c0-16b841061d90"
      },
      "source": [
        "s = \"/content/drive/MyDrive/nse_data.csv\"\n",
        "df = pd.read_csv(s)\n",
        "df.head()"
      ],
      "execution_count": 23,
      "outputs": [
        {
          "output_type": "execute_result",
          "data": {
            "text/html": [
              "<div>\n",
              "<style scoped>\n",
              "    .dataframe tbody tr th:only-of-type {\n",
              "        vertical-align: middle;\n",
              "    }\n",
              "\n",
              "    .dataframe tbody tr th {\n",
              "        vertical-align: top;\n",
              "    }\n",
              "\n",
              "    .dataframe thead th {\n",
              "        text-align: right;\n",
              "    }\n",
              "</style>\n",
              "<table border=\"1\" class=\"dataframe\">\n",
              "  <thead>\n",
              "    <tr style=\"text-align: right;\">\n",
              "      <th></th>\n",
              "      <th>Date</th>\n",
              "      <th>Open</th>\n",
              "      <th>High</th>\n",
              "      <th>Low</th>\n",
              "      <th>Close</th>\n",
              "      <th>Shares Traded</th>\n",
              "      <th>Turnover (Rs. Cr)</th>\n",
              "    </tr>\n",
              "  </thead>\n",
              "  <tbody>\n",
              "    <tr>\n",
              "      <th>0</th>\n",
              "      <td>30-Dec-2020</td>\n",
              "      <td>13980.90</td>\n",
              "      <td>13997.00</td>\n",
              "      <td>13864.95</td>\n",
              "      <td>13981.95</td>\n",
              "      <td>380681073</td>\n",
              "      <td>24633.12</td>\n",
              "    </tr>\n",
              "    <tr>\n",
              "      <th>1</th>\n",
              "      <td>31-Dec-2020</td>\n",
              "      <td>13970.00</td>\n",
              "      <td>14024.85</td>\n",
              "      <td>13936.45</td>\n",
              "      <td>13981.75</td>\n",
              "      <td>452410109</td>\n",
              "      <td>26305.82</td>\n",
              "    </tr>\n",
              "    <tr>\n",
              "      <th>2</th>\n",
              "      <td>01-Jan-2021</td>\n",
              "      <td>13996.10</td>\n",
              "      <td>14049.85</td>\n",
              "      <td>13991.35</td>\n",
              "      <td>14018.50</td>\n",
              "      <td>258090905</td>\n",
              "      <td>15873.75</td>\n",
              "    </tr>\n",
              "    <tr>\n",
              "      <th>3</th>\n",
              "      <td>04-Jan-2021</td>\n",
              "      <td>14104.35</td>\n",
              "      <td>14147.95</td>\n",
              "      <td>13953.75</td>\n",
              "      <td>14132.90</td>\n",
              "      <td>494999295</td>\n",
              "      <td>28705.09</td>\n",
              "    </tr>\n",
              "    <tr>\n",
              "      <th>4</th>\n",
              "      <td>05-Jan-2021</td>\n",
              "      <td>14075.15</td>\n",
              "      <td>14215.60</td>\n",
              "      <td>14048.15</td>\n",
              "      <td>14199.50</td>\n",
              "      <td>492475349</td>\n",
              "      <td>30872.87</td>\n",
              "    </tr>\n",
              "  </tbody>\n",
              "</table>\n",
              "</div>"
            ],
            "text/plain": [
              "          Date      Open      High  ...     Close  Shares Traded  Turnover (Rs. Cr)\n",
              "0  30-Dec-2020  13980.90  13997.00  ...  13981.95      380681073           24633.12\n",
              "1  31-Dec-2020  13970.00  14024.85  ...  13981.75      452410109           26305.82\n",
              "2  01-Jan-2021  13996.10  14049.85  ...  14018.50      258090905           15873.75\n",
              "3  04-Jan-2021  14104.35  14147.95  ...  14132.90      494999295           28705.09\n",
              "4  05-Jan-2021  14075.15  14215.60  ...  14199.50      492475349           30872.87\n",
              "\n",
              "[5 rows x 7 columns]"
            ]
          },
          "metadata": {},
          "execution_count": 23
        }
      ]
    },
    {
      "cell_type": "code",
      "metadata": {
        "colab": {
          "base_uri": "https://localhost:8080/"
        },
        "id": "xUMqeVbmr2Yi",
        "outputId": "bec5b2cd-0a45-4ad1-9548-0700cde8fcb6"
      },
      "source": [
        "# Drop date variable\n",
        "df = df.drop(['Date'], 1)# Dimensions of dfset\n",
        "n = df.shape[0]\n",
        "p = df.shape[1]# Make df a numpy array\n",
        "df = df.values\n",
        "df"
      ],
      "execution_count": 24,
      "outputs": [
        {
          "output_type": "execute_result",
          "data": {
            "text/plain": [
              "array([[1.39809000e+04, 1.39970000e+04, 1.38649500e+04, 1.39819500e+04,\n",
              "        3.80681073e+08, 2.46331200e+04],\n",
              "       [1.39700000e+04, 1.40248500e+04, 1.39364500e+04, 1.39817500e+04,\n",
              "        4.52410109e+08, 2.63058200e+04],\n",
              "       [1.39961000e+04, 1.40498500e+04, 1.39913500e+04, 1.40185000e+04,\n",
              "        2.58090905e+08, 1.58737500e+04],\n",
              "       ...,\n",
              "       [1.81545000e+04, 1.83104500e+04, 1.80993000e+04, 1.82684000e+04,\n",
              "        3.41377869e+08, 2.97646100e+04],\n",
              "       [1.82958500e+04, 1.83420500e+04, 1.81679000e+04, 1.82109500e+04,\n",
              "        3.35248487e+08, 3.08237500e+04],\n",
              "       [1.81876500e+04, 1.81907000e+04, 1.77994500e+04, 1.78572500e+04,\n",
              "        3.74205784e+08, 3.02223400e+04]])"
            ]
          },
          "metadata": {},
          "execution_count": 24
        }
      ]
    },
    {
      "cell_type": "code",
      "metadata": {
        "colab": {
          "base_uri": "https://localhost:8080/",
          "height": 385
        },
        "id": "ET1C85lPs4gY",
        "outputId": "edc11302-ba4c-40ee-b41c-6dab7b1c6661"
      },
      "source": [
        "plt.plot(df)"
      ],
      "execution_count": 27,
      "outputs": [
        {
          "output_type": "execute_result",
          "data": {
            "text/plain": [
              "[<matplotlib.lines.Line2D at 0x7fbc98f60110>,\n",
              " <matplotlib.lines.Line2D at 0x7fbc98f60350>,\n",
              " <matplotlib.lines.Line2D at 0x7fbc98f60510>,\n",
              " <matplotlib.lines.Line2D at 0x7fbc98f606d0>,\n",
              " <matplotlib.lines.Line2D at 0x7fbc98f60890>,\n",
              " <matplotlib.lines.Line2D at 0x7fbc98f60a50>]"
            ]
          },
          "metadata": {},
          "execution_count": 27
        },
        {
          "output_type": "display_data",
          "data": {
            "image/png": "[encoded data removed]",
            "text/plain": [
              "<Figure size 432x288 with 1 Axes>"
            ]
          },
          "metadata": {
            "needs_background": "light"
          }
        }
      ]
    },
    {
      "cell_type": "code",
      "metadata": {
        "id": "vBXZD2nMuJKe"
      },
      "source": [
        "# Training and test data\n",
        "train_start = 0\n",
        "train_end = int(np.floor(0.8*n))      # 80% training data\n",
        "test_start = train_end\n",
        "test_end = n\n",
        "df_train = df[np.arange(train_start, train_end), :]\n",
        "df_test = df[np.arange(test_start, test_end), :]"
      ],
      "execution_count": 29,
      "outputs": []
    }
  ]
}