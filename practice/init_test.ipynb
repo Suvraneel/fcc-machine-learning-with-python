{
  "nbformat": 4,
  "nbformat_minor": 0,
  "metadata": {
    "colab": {
      "name": "test",
      "provenance": [],
      "collapsed_sections": [],
      "authorship_tag": "ABX9TyM29O0qVRLP2GkBkFK8DJEL",
      "include_colab_link": true
    },
    "kernelspec": {
      "name": "python3",
      "display_name": "Python 3"
    },
    "language_info": {
      "name": "python"
    }
  },
  "cells": [
    {
      "cell_type": "markdown",
      "metadata": {
        "id": "view-in-github",
        "colab_type": "text"
      },
      "source": [
        "<a href=\"https://colab.research.google.com/github/Suvraneel/fcc-machine-learning-with-python/blob/fcc-practice/practice/init_test.ipynb\" target=\"_parent\"><img src=\"https://colab.research.google.com/assets/colab-badge.svg\" alt=\"Open In Colab\"/></a>"
      ]
    },
    {
      "cell_type": "code",
      "metadata": {
        "colab": {
          "base_uri": "https://localhost:8080/"
        },
        "id": "AV-cz2Hc73my",
        "outputId": "4c7d82c7-8307-4235-ff34-047b6a874093"
      },
      "source": [
        "print('Hi')\n",
        "var = 6\n",
        "var+2"
      ],
      "execution_count": 1,
      "outputs": [
        {
          "output_type": "stream",
          "name": "stdout",
          "text": [
            "Hi\n"
          ]
        },
        {
          "output_type": "execute_result",
          "data": {
            "text/plain": [
              "8"
            ]
          },
          "metadata": {},
          "execution_count": 1
        }
      ]
    },
    {
      "cell_type": "code",
      "metadata": {
        "id": "8tQi5IpL8gGj"
      },
      "source": [
        "import pandas as pd\n",
        "import numpy as np\n",
        "import tensorflow as tf\n",
        "# import os\n",
        "# cwd = os.getcwd()"
      ],
      "execution_count": 2,
      "outputs": []
    },
    {
      "cell_type": "code",
      "metadata": {
        "id": "SKfyLDlC8La0",
        "colab": {
          "base_uri": "https://localhost:8080/"
        },
        "outputId": "834290e2-3079-430e-b63b-1be8ef07ec1f"
      },
      "source": [
        "string_s = tf.Variable(\"Diablo\",tf.string)\n",
        "num = tf.Variable(99, tf.int32)\n",
        "fl = tf.Variable(69.999,tf.float16)\n",
        "# num\n",
        "# string_s\n",
        "fl"
      ],
      "execution_count": 3,
      "outputs": [
        {
          "output_type": "execute_result",
          "data": {
            "text/plain": [
              "<tf.Variable 'Variable:0' shape=() dtype=float32, numpy=69.999>"
            ]
          },
          "metadata": {},
          "execution_count": 3
        }
      ]
    },
    {
      "cell_type": "code",
      "metadata": {
        "colab": {
          "base_uri": "https://localhost:8080/"
        },
        "id": "zbInvO7S8Wco",
        "outputId": "55b211f1-85dc-404a-90e3-7c6e3a277b2c"
      },
      "source": [
        "rank2tensor = tf.Variable([[5,5], [3,3]], tf.int32)\n",
        "tf.rank(rank2tensor)\n",
        "# rank2tensor.shape"
      ],
      "execution_count": 4,
      "outputs": [
        {
          "output_type": "execute_result",
          "data": {
            "text/plain": [
              "<tf.Tensor: shape=(), dtype=int32, numpy=2>"
            ]
          },
          "metadata": {},
          "execution_count": 4
        }
      ]
    },
    {
      "cell_type": "code",
      "metadata": {
        "id": "PnSXzESj2L1D"
      },
      "source": [
        "tensor_ones = tf.ones([2,4,2])\n",
        "tensor_ones\n",
        "tensor_new = tf.reshape(tensor_ones, [2,2,2,2])"
      ],
      "execution_count": 5,
      "outputs": []
    },
    {
      "cell_type": "code",
      "metadata": {
        "colab": {
          "base_uri": "https://localhost:8080/"
        },
        "id": "rlPqsvII21JA",
        "outputId": "32955302-76e0-41d1-e804-1fad8e2611b3"
      },
      "source": [
        "print(tensor_ones)\n",
        "print(\"----------------------------------------------------------------\")\n",
        "print(tensor_new)"
      ],
      "execution_count": 6,
      "outputs": [
        {
          "output_type": "stream",
          "name": "stdout",
          "text": [
            "tf.Tensor(\n",
            "[[[1. 1.]\n",
            "  [1. 1.]\n",
            "  [1. 1.]\n",
            "  [1. 1.]]\n",
            "\n",
            " [[1. 1.]\n",
            "  [1. 1.]\n",
            "  [1. 1.]\n",
            "  [1. 1.]]], shape=(2, 4, 2), dtype=float32)\n",
            "----------------------------------------------------------------\n",
            "tf.Tensor(\n",
            "[[[[1. 1.]\n",
            "   [1. 1.]]\n",
            "\n",
            "  [[1. 1.]\n",
            "   [1. 1.]]]\n",
            "\n",
            "\n",
            " [[[1. 1.]\n",
            "   [1. 1.]]\n",
            "\n",
            "  [[1. 1.]\n",
            "   [1. 1.]]]], shape=(2, 2, 2, 2), dtype=float32)\n"
          ]
        }
      ]
    },
    {
      "cell_type": "code",
      "metadata": {
        "colab": {
          "base_uri": "https://localhost:8080/"
        },
        "id": "oO1XRDop8tWy",
        "outputId": "79ff82dc-caab-4b87-a05b-8052bb8f6407"
      },
      "source": [
        "from google.colab import drive\n",
        "drive.mount(\"/content/drive\")"
      ],
      "execution_count": 7,
      "outputs": [
        {
          "output_type": "stream",
          "name": "stdout",
          "text": [
            "Mounted at /content/drive\n"
          ]
        }
      ]
    },
    {
      "cell_type": "code",
      "metadata": {
        "id": "CcaCPKTz-aba",
        "colab": {
          "base_uri": "https://localhost:8080/",
          "height": 206
        },
        "outputId": "28979c87-4872-4b22-e109-63f4c931c260"
      },
      "source": [
        "s = \"/content/drive/MyDrive/city_day_train.csv\"\n",
        "df = pd.read_csv(s)\n",
        "df.head()\n"
      ],
      "execution_count": 8,
      "outputs": [
        {
          "output_type": "execute_result",
          "data": {
            "text/html": [
              "<div>\n",
              "<style scoped>\n",
              "    .dataframe tbody tr th:only-of-type {\n",
              "        vertical-align: middle;\n",
              "    }\n",
              "\n",
              "    .dataframe tbody tr th {\n",
              "        vertical-align: top;\n",
              "    }\n",
              "\n",
              "    .dataframe thead th {\n",
              "        text-align: right;\n",
              "    }\n",
              "</style>\n",
              "<table border=\"1\" class=\"dataframe\">\n",
              "  <thead>\n",
              "    <tr style=\"text-align: right;\">\n",
              "      <th></th>\n",
              "      <th>City</th>\n",
              "      <th>Date</th>\n",
              "      <th>PM2.5</th>\n",
              "      <th>PM10</th>\n",
              "      <th>NO</th>\n",
              "      <th>NO2</th>\n",
              "      <th>NOx</th>\n",
              "      <th>NH3</th>\n",
              "      <th>CO</th>\n",
              "      <th>SO2</th>\n",
              "      <th>O3</th>\n",
              "      <th>Benzene</th>\n",
              "      <th>Toluene</th>\n",
              "      <th>Xylene</th>\n",
              "      <th>AQI</th>\n",
              "      <th>AQI_Bucket</th>\n",
              "    </tr>\n",
              "  </thead>\n",
              "  <tbody>\n",
              "    <tr>\n",
              "      <th>0</th>\n",
              "      <td>Ahmedabad</td>\n",
              "      <td>01-01-2015</td>\n",
              "      <td>#</td>\n",
              "      <td>#</td>\n",
              "      <td>0.92</td>\n",
              "      <td>18.22</td>\n",
              "      <td>17.15</td>\n",
              "      <td>#</td>\n",
              "      <td>0.92</td>\n",
              "      <td>27.64</td>\n",
              "      <td>133.36</td>\n",
              "      <td>0</td>\n",
              "      <td>0.02</td>\n",
              "      <td>0</td>\n",
              "      <td>#</td>\n",
              "      <td>#</td>\n",
              "    </tr>\n",
              "    <tr>\n",
              "      <th>1</th>\n",
              "      <td>Ahmedabad</td>\n",
              "      <td>01-02-2015</td>\n",
              "      <td>#</td>\n",
              "      <td>#</td>\n",
              "      <td>0.97</td>\n",
              "      <td>15.69</td>\n",
              "      <td>16.46</td>\n",
              "      <td>#</td>\n",
              "      <td>0.97</td>\n",
              "      <td>24.55</td>\n",
              "      <td>34.06</td>\n",
              "      <td>3.68</td>\n",
              "      <td>5.5</td>\n",
              "      <td>3.77</td>\n",
              "      <td>#</td>\n",
              "      <td>#</td>\n",
              "    </tr>\n",
              "    <tr>\n",
              "      <th>2</th>\n",
              "      <td>Ahmedabad</td>\n",
              "      <td>01-03-2015</td>\n",
              "      <td>#</td>\n",
              "      <td>#</td>\n",
              "      <td>17.4</td>\n",
              "      <td>19.3</td>\n",
              "      <td>29.7</td>\n",
              "      <td>#</td>\n",
              "      <td>17.4</td>\n",
              "      <td>29.07</td>\n",
              "      <td>30.7</td>\n",
              "      <td>6.8</td>\n",
              "      <td>16.4</td>\n",
              "      <td>2.25</td>\n",
              "      <td>#</td>\n",
              "      <td>#</td>\n",
              "    </tr>\n",
              "    <tr>\n",
              "      <th>3</th>\n",
              "      <td>Ahmedabad</td>\n",
              "      <td>01-04-2015</td>\n",
              "      <td>#</td>\n",
              "      <td>#</td>\n",
              "      <td>1.7</td>\n",
              "      <td>18.48</td>\n",
              "      <td>17.97</td>\n",
              "      <td>#</td>\n",
              "      <td>1.7</td>\n",
              "      <td>18.59</td>\n",
              "      <td>36.08</td>\n",
              "      <td>4.43</td>\n",
              "      <td>10.14</td>\n",
              "      <td>1</td>\n",
              "      <td>#</td>\n",
              "      <td>#</td>\n",
              "    </tr>\n",
              "    <tr>\n",
              "      <th>4</th>\n",
              "      <td>Ahmedabad</td>\n",
              "      <td>01-05-2015</td>\n",
              "      <td>#</td>\n",
              "      <td>#</td>\n",
              "      <td>22.1</td>\n",
              "      <td>21.42</td>\n",
              "      <td>37.76</td>\n",
              "      <td>#</td>\n",
              "      <td>22.1</td>\n",
              "      <td>39.33</td>\n",
              "      <td>39.31</td>\n",
              "      <td>7.01</td>\n",
              "      <td>18.89</td>\n",
              "      <td>2.78</td>\n",
              "      <td>#</td>\n",
              "      <td>#</td>\n",
              "    </tr>\n",
              "  </tbody>\n",
              "</table>\n",
              "</div>"
            ],
            "text/plain": [
              "        City        Date PM2.5 PM10    NO  ... Benzene Toluene Xylene AQI AQI_Bucket\n",
              "0  Ahmedabad  01-01-2015     #    #  0.92  ...       0    0.02      0   #          #\n",
              "1  Ahmedabad  01-02-2015     #    #  0.97  ...    3.68     5.5   3.77   #          #\n",
              "2  Ahmedabad  01-03-2015     #    #  17.4  ...     6.8    16.4   2.25   #          #\n",
              "3  Ahmedabad  01-04-2015     #    #   1.7  ...    4.43   10.14      1   #          #\n",
              "4  Ahmedabad  01-05-2015     #    #  22.1  ...    7.01   18.89   2.78   #          #\n",
              "\n",
              "[5 rows x 16 columns]"
            ]
          },
          "metadata": {},
          "execution_count": 8
        }
      ]
    },
    {
      "cell_type": "code",
      "metadata": {
        "colab": {
          "base_uri": "https://localhost:8080/"
        },
        "id": "qsMXqir5726t",
        "outputId": "13811544-bdff-4bed-b505-b3736de5c745"
      },
      "source": [
        "df1= df.pop(\"PM2.5\")\n",
        "df.pop(\"PM10\")\n",
        "df.pop(\"NH3\")\n",
        "df.pop(\"AQI\")\n",
        "df.pop(\"AQI_Bucket\")\n",
        "df1.head()"
      ],
      "execution_count": 9,
      "outputs": [
        {
          "output_type": "execute_result",
          "data": {
            "text/plain": [
              "0    #\n",
              "1    #\n",
              "2    #\n",
              "3    #\n",
              "4    #\n",
              "Name: PM2.5, dtype: object"
            ]
          },
          "metadata": {},
          "execution_count": 9
        }
      ]
    },
    {
      "cell_type": "code",
      "metadata": {
        "colab": {
          "base_uri": "https://localhost:8080/",
          "height": 206
        },
        "id": "55GCZgRd76Zt",
        "outputId": "81fbc5b2-7ecc-4efb-dfbc-7b4b6e1bb5c1"
      },
      "source": [
        "df.head()"
      ],
      "execution_count": 10,
      "outputs": [
        {
          "output_type": "execute_result",
          "data": {
            "text/html": [
              "<div>\n",
              "<style scoped>\n",
              "    .dataframe tbody tr th:only-of-type {\n",
              "        vertical-align: middle;\n",
              "    }\n",
              "\n",
              "    .dataframe tbody tr th {\n",
              "        vertical-align: top;\n",
              "    }\n",
              "\n",
              "    .dataframe thead th {\n",
              "        text-align: right;\n",
              "    }\n",
              "</style>\n",
              "<table border=\"1\" class=\"dataframe\">\n",
              "  <thead>\n",
              "    <tr style=\"text-align: right;\">\n",
              "      <th></th>\n",
              "      <th>City</th>\n",
              "      <th>Date</th>\n",
              "      <th>NO</th>\n",
              "      <th>NO2</th>\n",
              "      <th>NOx</th>\n",
              "      <th>CO</th>\n",
              "      <th>SO2</th>\n",
              "      <th>O3</th>\n",
              "      <th>Benzene</th>\n",
              "      <th>Toluene</th>\n",
              "      <th>Xylene</th>\n",
              "    </tr>\n",
              "  </thead>\n",
              "  <tbody>\n",
              "    <tr>\n",
              "      <th>0</th>\n",
              "      <td>Ahmedabad</td>\n",
              "      <td>01-01-2015</td>\n",
              "      <td>0.92</td>\n",
              "      <td>18.22</td>\n",
              "      <td>17.15</td>\n",
              "      <td>0.92</td>\n",
              "      <td>27.64</td>\n",
              "      <td>133.36</td>\n",
              "      <td>0</td>\n",
              "      <td>0.02</td>\n",
              "      <td>0</td>\n",
              "    </tr>\n",
              "    <tr>\n",
              "      <th>1</th>\n",
              "      <td>Ahmedabad</td>\n",
              "      <td>01-02-2015</td>\n",
              "      <td>0.97</td>\n",
              "      <td>15.69</td>\n",
              "      <td>16.46</td>\n",
              "      <td>0.97</td>\n",
              "      <td>24.55</td>\n",
              "      <td>34.06</td>\n",
              "      <td>3.68</td>\n",
              "      <td>5.5</td>\n",
              "      <td>3.77</td>\n",
              "    </tr>\n",
              "    <tr>\n",
              "      <th>2</th>\n",
              "      <td>Ahmedabad</td>\n",
              "      <td>01-03-2015</td>\n",
              "      <td>17.4</td>\n",
              "      <td>19.3</td>\n",
              "      <td>29.7</td>\n",
              "      <td>17.4</td>\n",
              "      <td>29.07</td>\n",
              "      <td>30.7</td>\n",
              "      <td>6.8</td>\n",
              "      <td>16.4</td>\n",
              "      <td>2.25</td>\n",
              "    </tr>\n",
              "    <tr>\n",
              "      <th>3</th>\n",
              "      <td>Ahmedabad</td>\n",
              "      <td>01-04-2015</td>\n",
              "      <td>1.7</td>\n",
              "      <td>18.48</td>\n",
              "      <td>17.97</td>\n",
              "      <td>1.7</td>\n",
              "      <td>18.59</td>\n",
              "      <td>36.08</td>\n",
              "      <td>4.43</td>\n",
              "      <td>10.14</td>\n",
              "      <td>1</td>\n",
              "    </tr>\n",
              "    <tr>\n",
              "      <th>4</th>\n",
              "      <td>Ahmedabad</td>\n",
              "      <td>01-05-2015</td>\n",
              "      <td>22.1</td>\n",
              "      <td>21.42</td>\n",
              "      <td>37.76</td>\n",
              "      <td>22.1</td>\n",
              "      <td>39.33</td>\n",
              "      <td>39.31</td>\n",
              "      <td>7.01</td>\n",
              "      <td>18.89</td>\n",
              "      <td>2.78</td>\n",
              "    </tr>\n",
              "  </tbody>\n",
              "</table>\n",
              "</div>"
            ],
            "text/plain": [
              "        City        Date    NO    NO2  ...      O3 Benzene Toluene Xylene\n",
              "0  Ahmedabad  01-01-2015  0.92  18.22  ...  133.36       0    0.02      0\n",
              "1  Ahmedabad  01-02-2015  0.97  15.69  ...   34.06    3.68     5.5   3.77\n",
              "2  Ahmedabad  01-03-2015  17.4   19.3  ...    30.7     6.8    16.4   2.25\n",
              "3  Ahmedabad  01-04-2015   1.7  18.48  ...   36.08    4.43   10.14      1\n",
              "4  Ahmedabad  01-05-2015  22.1  21.42  ...   39.31    7.01   18.89   2.78\n",
              "\n",
              "[5 rows x 11 columns]"
            ]
          },
          "metadata": {},
          "execution_count": 10
        }
      ]
    },
    {
      "cell_type": "code",
      "metadata": {
        "id": "xeiENzE89gtg"
      },
      "source": [
        "!pip install -q sklearn"
      ],
      "execution_count": 11,
      "outputs": []
    },
    {
      "cell_type": "code",
      "metadata": {
        "id": "OL7aCy199roI"
      },
      "source": [
        "%tensorflow_version 2.x"
      ],
      "execution_count": 12,
      "outputs": []
    },
    {
      "cell_type": "code",
      "metadata": {
        "id": "IJDt4Xdd929s"
      },
      "source": [
        "import matplotlib.pyplot as plt\n",
        "from IPython.display import clear_output\n",
        "from six.moves import urllib\n",
        "import tensorflow.compat.v2.feature_column as fc"
      ],
      "execution_count": 13,
      "outputs": []
    },
    {
      "cell_type": "code",
      "metadata": {
        "colab": {
          "base_uri": "https://localhost:8080/"
        },
        "id": "HYAWPDHBZA6S",
        "outputId": "04304500-c474-4b37-b4dd-1d31f8c85d3b"
      },
      "source": [
        "print(df[\"Date\"])"
      ],
      "execution_count": 14,
      "outputs": [
        {
          "output_type": "stream",
          "name": "stdout",
          "text": [
            "0        01-01-2015\n",
            "1        01-02-2015\n",
            "2        01-03-2015\n",
            "3        01-04-2015\n",
            "4        01-05-2015\n",
            "            ...    \n",
            "29526     6/27/2020\n",
            "29527     6/28/2020\n",
            "29528     6/29/2020\n",
            "29529     6/30/2020\n",
            "29530    07-01-2020\n",
            "Name: Date, Length: 29531, dtype: object\n"
          ]
        }
      ]
    },
    {
      "cell_type": "code",
      "metadata": {
        "colab": {
          "base_uri": "https://localhost:8080/"
        },
        "id": "jAWddFCnZ90F",
        "outputId": "d08261c4-9728-495b-aa9d-03fa70fa36f6"
      },
      "source": [
        "df.shape"
      ],
      "execution_count": 15,
      "outputs": [
        {
          "output_type": "execute_result",
          "data": {
            "text/plain": [
              "(29531, 11)"
            ]
          },
          "metadata": {},
          "execution_count": 15
        }
      ]
    },
    {
      "cell_type": "code",
      "metadata": {
        "colab": {
          "base_uri": "https://localhost:8080/",
          "height": 287
        },
        "id": "wWRJQiyoaNZa",
        "outputId": "2dd2e66c-a893-4b86-8390-cfebe1f3e4c4"
      },
      "source": [
        "df[\"Toluene\"].hist(bins=300).axis([0, 400, 0, 900])"
      ],
      "execution_count": 26,
      "outputs": [
        {
          "output_type": "execute_result",
          "data": {
            "text/plain": [
              "(0.0, 400.0, 0.0, 900.0)"
            ]
          },
          "metadata": {},
          "execution_count": 26
        },
        {
          "output_type": "display_data",
          "data": {
            "image/png": "[encoded data removed]",
            "text/plain": [
              "<Figure size 432x288 with 1 Axes>"
            ]
          },
          "metadata": {
            "needs_background": "light"
          }
        }
      ]
    },
    {
      "cell_type": "code",
      "metadata": {
        "colab": {
          "base_uri": "https://localhost:8080/",
          "height": 287
        },
        "id": "wV_PV9-bbIwx",
        "outputId": "74802bf2-7a67-4f7c-b868-49dac9cbb422"
      },
      "source": [
        "df.CO.value_counts().plot(kind='barh').axis([0, 400, 0, 800])"
      ],
      "execution_count": 28,
      "outputs": [
        {
          "output_type": "execute_result",
          "data": {
            "text/plain": [
              "(0.0, 400.0, 0.0, 800.0)"
            ]
          },
          "metadata": {},
          "execution_count": 28
        },
        {
          "output_type": "display_data",
          "data": {
            "image/png": "[encoded data removed]",
            "text/plain": [
              "<Figure size 432x288 with 1 Axes>"
            ]
          },
          "metadata": {
            "needs_background": "light"
          }
        }
      ]
    },
    {
      "cell_type": "code",
      "metadata": {
        "id": "3huXMe_vOBjF",
        "outputId": "a166620b-e7ae-422e-fba9-e3c57284f4ef",
        "colab": {
          "base_uri": "https://localhost:8080/"
        }
      },
      "source": [
        "df.Benzene.describe()"
      ],
      "execution_count": 30,
      "outputs": [
        {
          "output_type": "execute_result",
          "data": {
            "text/plain": [
              "count     29531\n",
              "unique     1874\n",
              "top           #\n",
              "freq       5623\n",
              "Name: Benzene, dtype: object"
            ]
          },
          "metadata": {},
          "execution_count": 30
        }
      ]
    }
  ]
}