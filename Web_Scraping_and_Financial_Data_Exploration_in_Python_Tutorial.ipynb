{
  "nbformat": 4,
  "nbformat_minor": 0,
  "metadata": {
    "kernelspec": {
      "display_name": "Python 3",
      "language": "python",
      "name": "python3"
    },
    "toc": {
      "nav_menu": {},
      "number_sections": true,
      "sideBar": true,
      "skip_h1_title": false,
      "toc_cell": false,
      "toc_position": {},
      "toc_section_display": "block",
      "toc_window_display": false
    },
    "colab": {
      "name": "Web Scraping and Financial Data Exploration in Python-Tutorial.ipynb",
      "provenance": [],
      "include_colab_link": true
    }
  },
  "cells": [
    {
      "cell_type": "markdown",
      "metadata": {
        "id": "view-in-github",
        "colab_type": "text"
      },
      "source": [
        "<a href=\"https://colab.research.google.com/github/Suvraneel/fcc-machine-learning-with-python/blob/fcc-practice/Web_Scraping_and_Financial_Data_Exploration_in_Python_Tutorial.ipynb\" target=\"_parent\"><img src=\"https://colab.research.google.com/assets/colab-badge.svg\" alt=\"Open In Colab\"/></a>"
      ]
    },
    {
      "cell_type": "markdown",
      "metadata": {
        "id": "yLkhxDxz8Isj"
      },
      "source": [
        "### Topics"
      ]
    },
    {
      "cell_type": "markdown",
      "metadata": {
        "id": "MylCNPS58Iso"
      },
      "source": [
        "- Requests and getting webpages\n",
        "- Tidying HTML\n",
        "- Web Scraping with BS\n",
        "    - Traversal\n",
        "- simple parallelization\n",
        "- Storing Snapshots by using python dill\n",
        "- Exploration\n",
        "- Stock selection using simple filters"
      ]
    },
    {
      "cell_type": "markdown",
      "metadata": {
        "id": "HKpLnjmn8Isr"
      },
      "source": [
        "### Imports"
      ]
    },
    {
      "cell_type": "code",
      "metadata": {
        "ExecuteTime": {
          "end_time": "2018-08-12T06:43:26.645634Z",
          "start_time": "2018-08-12T06:43:26.170422Z"
        },
        "collapsed": true,
        "id": "JWvnTPoX8Iss"
      },
      "source": [
        "import numpy as np # linear algebra\n",
        "import pandas as pd # pandas for dataframe based data processing and CSV file I/O"
      ],
      "execution_count": 5,
      "outputs": []
    },
    {
      "cell_type": "code",
      "metadata": {
        "ExecuteTime": {
          "end_time": "2018-08-12T06:44:10.456962Z",
          "start_time": "2018-08-12T06:44:10.440417Z"
        },
        "collapsed": true,
        "colab": {
          "base_uri": "https://localhost:8080/"
        },
        "id": "msVMt1JO8Isu",
        "outputId": "dc9d5f14-cd6d-46cc-f4c6-50eff612189d"
      },
      "source": [
        "import requests # for http requests\n",
        "from bs4 import BeautifulSoup # for html parsing and scraping\n",
        "!pip install fastnumbers\n",
        "from fastnumbers import isfloat \n",
        "from fastnumbers import fast_float\n",
        "from multiprocessing.dummy import Pool as ThreadPool \n",
        "import bs4\n",
        "\n",
        "import matplotlib.pyplot as plt\n",
        "import seaborn as sns\n",
        "import json\n",
        "!pip install pytidylib\n",
        "from tidylib import tidy_document # for tidying incorrect html\n",
        "\n",
        "sns.set_style('whitegrid')\n",
        "%matplotlib inline\n",
        "from IPython.core.interactiveshell import InteractiveShell\n",
        "InteractiveShell.ast_node_interactivity = \"all\"\n",
        "\n"
      ],
      "execution_count": 13,
      "outputs": [
        {
          "output_type": "stream",
          "name": "stdout",
          "text": [
            "Requirement already satisfied: fastnumbers in /usr/local/lib/python3.7/dist-packages (3.2.1)\n",
            "Collecting pytidylib\n",
            "  Downloading pytidylib-0.3.2.tar.gz (87 kB)\n",
            "\u001b[K     |████████████████████████████████| 87 kB 3.0 MB/s \n",
            "\u001b[?25hBuilding wheels for collected packages: pytidylib\n",
            "  Building wheel for pytidylib (setup.py) ... \u001b[?25l\u001b[?25hdone\n",
            "  Created wheel for pytidylib: filename=pytidylib-0.3.2-py3-none-any.whl size=8565 sha256=8ad9d25a3b6bf81470d68d17e968b705d545f3ffba6b9730de051bba810d9911\n",
            "  Stored in directory: /root/.cache/pip/wheels/31/22/54/7f13131eb68ef3457b29ae9bd3e546140224f88d9087eb7998\n",
            "Successfully built pytidylib\n",
            "Installing collected packages: pytidylib\n",
            "Successfully installed pytidylib-0.3.2\n"
          ]
        }
      ]
    },
    {
      "cell_type": "code",
      "metadata": {
        "ExecuteTime": {
          "end_time": "2018-08-12T06:43:29.759057Z",
          "start_time": "2018-08-12T06:43:29.735326Z"
        },
        "collapsed": true,
        "id": "w4yaM4f68Isv"
      },
      "source": [
        "def ffloat(string):\n",
        "    if string is None:\n",
        "        return np.nan\n",
        "    if type(string)==float or type(string)==np.float64:\n",
        "        return string\n",
        "    if type(string)==int or type(string)==np.int64:\n",
        "        return string\n",
        "    return fast_float(string.split(\" \")[0].replace(',','').replace('%',''),\n",
        "                      default=np.nan)\n",
        "\n",
        "def ffloat_list(string_list):\n",
        "    return list(map(ffloat,string_list))\n",
        "\n",
        "def remove_multiple_spaces(string):\n",
        "    if type(string)==str:\n",
        "        return ' '.join(string.split())\n",
        "    return string"
      ],
      "execution_count": 14,
      "outputs": []
    },
    {
      "cell_type": "markdown",
      "metadata": {
        "id": "px4WmLYz8Isz"
      },
      "source": [
        "### Requests and Getting Content\n",
        "- Status code\n",
        "- Getting Text Content\n",
        "- Getting JSON Content\n",
        "- Error Handling"
      ]
    },
    {
      "cell_type": "markdown",
      "metadata": {
        "id": "Pw9VWMdF8Is1"
      },
      "source": [
        "#### Getting a page and its status"
      ]
    },
    {
      "cell_type": "code",
      "metadata": {
        "ExecuteTime": {
          "end_time": "2018-08-11T09:42:05.501640Z",
          "start_time": "2018-08-11T09:42:04.071359Z"
        },
        "colab": {
          "base_uri": "https://localhost:8080/",
          "height": 540
        },
        "id": "E7-Hz3aK8Is2",
        "outputId": "5de1786d-4541-45f9-a071-7cf8dae8a2ce"
      },
      "source": [
        "response = requests.get(\"https://www1.nseindia.com/live_market/dynaContent/live_watch/equities_stock_watch.htm\", timeout=240)\n",
        "response.status_code\n",
        "response.content"
      ],
      "execution_count": 15,
      "outputs": [
        {
          "output_type": "error",
          "ename": "ReadTimeout",
          "evalue": "ignored",
          "traceback": [
            "\u001b[0;31m---------------------------------------------------------------------------\u001b[0m",
            "\u001b[0;31mtimeout\u001b[0m                                   Traceback (most recent call last)",
            "\u001b[0;32m/usr/local/lib/python3.7/dist-packages/urllib3/connectionpool.py\u001b[0m in \u001b[0;36m_make_request\u001b[0;34m(self, conn, method, url, timeout, chunked, **httplib_request_kw)\u001b[0m\n\u001b[1;32m    383\u001b[0m                     \u001b[0;31m# otherwise it looks like a programming error was the cause.\u001b[0m\u001b[0;34m\u001b[0m\u001b[0;34m\u001b[0m\u001b[0;34m\u001b[0m\u001b[0m\n\u001b[0;32m--> 384\u001b[0;31m                     \u001b[0msix\u001b[0m\u001b[0;34m.\u001b[0m\u001b[0mraise_from\u001b[0m\u001b[0;34m(\u001b[0m\u001b[0me\u001b[0m\u001b[0;34m,\u001b[0m \u001b[0;32mNone\u001b[0m\u001b[0;34m)\u001b[0m\u001b[0;34m\u001b[0m\u001b[0;34m\u001b[0m\u001b[0m\n\u001b[0m\u001b[1;32m    385\u001b[0m         \u001b[0;32mexcept\u001b[0m \u001b[0;34m(\u001b[0m\u001b[0mSocketTimeout\u001b[0m\u001b[0;34m,\u001b[0m \u001b[0mBaseSSLError\u001b[0m\u001b[0;34m,\u001b[0m \u001b[0mSocketError\u001b[0m\u001b[0;34m)\u001b[0m \u001b[0;32mas\u001b[0m \u001b[0me\u001b[0m\u001b[0;34m:\u001b[0m\u001b[0;34m\u001b[0m\u001b[0;34m\u001b[0m\u001b[0m\n",
            "\u001b[0;32m/usr/local/lib/python3.7/dist-packages/urllib3/packages/six.py\u001b[0m in \u001b[0;36mraise_from\u001b[0;34m(value, from_value)\u001b[0m\n",
            "\u001b[0;32m/usr/local/lib/python3.7/dist-packages/urllib3/connectionpool.py\u001b[0m in \u001b[0;36m_make_request\u001b[0;34m(self, conn, method, url, timeout, chunked, **httplib_request_kw)\u001b[0m\n\u001b[1;32m    379\u001b[0m                 \u001b[0;32mtry\u001b[0m\u001b[0;34m:\u001b[0m\u001b[0;34m\u001b[0m\u001b[0;34m\u001b[0m\u001b[0m\n\u001b[0;32m--> 380\u001b[0;31m                     \u001b[0mhttplib_response\u001b[0m \u001b[0;34m=\u001b[0m \u001b[0mconn\u001b[0m\u001b[0;34m.\u001b[0m\u001b[0mgetresponse\u001b[0m\u001b[0;34m(\u001b[0m\u001b[0;34m)\u001b[0m\u001b[0;34m\u001b[0m\u001b[0;34m\u001b[0m\u001b[0m\n\u001b[0m\u001b[1;32m    381\u001b[0m                 \u001b[0;32mexcept\u001b[0m \u001b[0mException\u001b[0m \u001b[0;32mas\u001b[0m \u001b[0me\u001b[0m\u001b[0;34m:\u001b[0m\u001b[0;34m\u001b[0m\u001b[0;34m\u001b[0m\u001b[0m\n",
            "\u001b[0;32m/usr/lib/python3.7/http/client.py\u001b[0m in \u001b[0;36mgetresponse\u001b[0;34m(self)\u001b[0m\n\u001b[1;32m   1372\u001b[0m             \u001b[0;32mtry\u001b[0m\u001b[0;34m:\u001b[0m\u001b[0;34m\u001b[0m\u001b[0;34m\u001b[0m\u001b[0m\n\u001b[0;32m-> 1373\u001b[0;31m                 \u001b[0mresponse\u001b[0m\u001b[0;34m.\u001b[0m\u001b[0mbegin\u001b[0m\u001b[0;34m(\u001b[0m\u001b[0;34m)\u001b[0m\u001b[0;34m\u001b[0m\u001b[0;34m\u001b[0m\u001b[0m\n\u001b[0m\u001b[1;32m   1374\u001b[0m             \u001b[0;32mexcept\u001b[0m \u001b[0mConnectionError\u001b[0m\u001b[0;34m:\u001b[0m\u001b[0;34m\u001b[0m\u001b[0;34m\u001b[0m\u001b[0m\n",
            "\u001b[0;32m/usr/lib/python3.7/http/client.py\u001b[0m in \u001b[0;36mbegin\u001b[0;34m(self)\u001b[0m\n\u001b[1;32m    318\u001b[0m         \u001b[0;32mwhile\u001b[0m \u001b[0;32mTrue\u001b[0m\u001b[0;34m:\u001b[0m\u001b[0;34m\u001b[0m\u001b[0;34m\u001b[0m\u001b[0m\n\u001b[0;32m--> 319\u001b[0;31m             \u001b[0mversion\u001b[0m\u001b[0;34m,\u001b[0m \u001b[0mstatus\u001b[0m\u001b[0;34m,\u001b[0m \u001b[0mreason\u001b[0m \u001b[0;34m=\u001b[0m \u001b[0mself\u001b[0m\u001b[0;34m.\u001b[0m\u001b[0m_read_status\u001b[0m\u001b[0;34m(\u001b[0m\u001b[0;34m)\u001b[0m\u001b[0;34m\u001b[0m\u001b[0;34m\u001b[0m\u001b[0m\n\u001b[0m\u001b[1;32m    320\u001b[0m             \u001b[0;32mif\u001b[0m \u001b[0mstatus\u001b[0m \u001b[0;34m!=\u001b[0m \u001b[0mCONTINUE\u001b[0m\u001b[0;34m:\u001b[0m\u001b[0;34m\u001b[0m\u001b[0;34m\u001b[0m\u001b[0m\n",
            "\u001b[0;32m/usr/lib/python3.7/http/client.py\u001b[0m in \u001b[0;36m_read_status\u001b[0;34m(self)\u001b[0m\n\u001b[1;32m    279\u001b[0m     \u001b[0;32mdef\u001b[0m \u001b[0m_read_status\u001b[0m\u001b[0;34m(\u001b[0m\u001b[0mself\u001b[0m\u001b[0;34m)\u001b[0m\u001b[0;34m:\u001b[0m\u001b[0;34m\u001b[0m\u001b[0;34m\u001b[0m\u001b[0m\n\u001b[0;32m--> 280\u001b[0;31m         \u001b[0mline\u001b[0m \u001b[0;34m=\u001b[0m \u001b[0mstr\u001b[0m\u001b[0;34m(\u001b[0m\u001b[0mself\u001b[0m\u001b[0;34m.\u001b[0m\u001b[0mfp\u001b[0m\u001b[0;34m.\u001b[0m\u001b[0mreadline\u001b[0m\u001b[0;34m(\u001b[0m\u001b[0m_MAXLINE\u001b[0m \u001b[0;34m+\u001b[0m \u001b[0;36m1\u001b[0m\u001b[0;34m)\u001b[0m\u001b[0;34m,\u001b[0m \u001b[0;34m\"iso-8859-1\"\u001b[0m\u001b[0;34m)\u001b[0m\u001b[0;34m\u001b[0m\u001b[0;34m\u001b[0m\u001b[0m\n\u001b[0m\u001b[1;32m    281\u001b[0m         \u001b[0;32mif\u001b[0m \u001b[0mlen\u001b[0m\u001b[0;34m(\u001b[0m\u001b[0mline\u001b[0m\u001b[0;34m)\u001b[0m \u001b[0;34m>\u001b[0m \u001b[0m_MAXLINE\u001b[0m\u001b[0;34m:\u001b[0m\u001b[0;34m\u001b[0m\u001b[0;34m\u001b[0m\u001b[0m\n",
            "\u001b[0;32m/usr/lib/python3.7/socket.py\u001b[0m in \u001b[0;36mreadinto\u001b[0;34m(self, b)\u001b[0m\n\u001b[1;32m    588\u001b[0m             \u001b[0;32mtry\u001b[0m\u001b[0;34m:\u001b[0m\u001b[0;34m\u001b[0m\u001b[0;34m\u001b[0m\u001b[0m\n\u001b[0;32m--> 589\u001b[0;31m                 \u001b[0;32mreturn\u001b[0m \u001b[0mself\u001b[0m\u001b[0;34m.\u001b[0m\u001b[0m_sock\u001b[0m\u001b[0;34m.\u001b[0m\u001b[0mrecv_into\u001b[0m\u001b[0;34m(\u001b[0m\u001b[0mb\u001b[0m\u001b[0;34m)\u001b[0m\u001b[0;34m\u001b[0m\u001b[0;34m\u001b[0m\u001b[0m\n\u001b[0m\u001b[1;32m    590\u001b[0m             \u001b[0;32mexcept\u001b[0m \u001b[0mtimeout\u001b[0m\u001b[0;34m:\u001b[0m\u001b[0;34m\u001b[0m\u001b[0;34m\u001b[0m\u001b[0m\n",
            "\u001b[0;32m/usr/lib/python3.7/ssl.py\u001b[0m in \u001b[0;36mrecv_into\u001b[0;34m(self, buffer, nbytes, flags)\u001b[0m\n\u001b[1;32m   1070\u001b[0m                   self.__class__)\n\u001b[0;32m-> 1071\u001b[0;31m             \u001b[0;32mreturn\u001b[0m \u001b[0mself\u001b[0m\u001b[0;34m.\u001b[0m\u001b[0mread\u001b[0m\u001b[0;34m(\u001b[0m\u001b[0mnbytes\u001b[0m\u001b[0;34m,\u001b[0m \u001b[0mbuffer\u001b[0m\u001b[0;34m)\u001b[0m\u001b[0;34m\u001b[0m\u001b[0;34m\u001b[0m\u001b[0m\n\u001b[0m\u001b[1;32m   1072\u001b[0m         \u001b[0;32melse\u001b[0m\u001b[0;34m:\u001b[0m\u001b[0;34m\u001b[0m\u001b[0;34m\u001b[0m\u001b[0m\n",
            "\u001b[0;32m/usr/lib/python3.7/ssl.py\u001b[0m in \u001b[0;36mread\u001b[0;34m(self, len, buffer)\u001b[0m\n\u001b[1;32m    928\u001b[0m             \u001b[0;32mif\u001b[0m \u001b[0mbuffer\u001b[0m \u001b[0;32mis\u001b[0m \u001b[0;32mnot\u001b[0m \u001b[0;32mNone\u001b[0m\u001b[0;34m:\u001b[0m\u001b[0;34m\u001b[0m\u001b[0;34m\u001b[0m\u001b[0m\n\u001b[0;32m--> 929\u001b[0;31m                 \u001b[0;32mreturn\u001b[0m \u001b[0mself\u001b[0m\u001b[0;34m.\u001b[0m\u001b[0m_sslobj\u001b[0m\u001b[0;34m.\u001b[0m\u001b[0mread\u001b[0m\u001b[0;34m(\u001b[0m\u001b[0mlen\u001b[0m\u001b[0;34m,\u001b[0m \u001b[0mbuffer\u001b[0m\u001b[0;34m)\u001b[0m\u001b[0;34m\u001b[0m\u001b[0;34m\u001b[0m\u001b[0m\n\u001b[0m\u001b[1;32m    930\u001b[0m             \u001b[0;32melse\u001b[0m\u001b[0;34m:\u001b[0m\u001b[0;34m\u001b[0m\u001b[0;34m\u001b[0m\u001b[0m\n",
            "\u001b[0;31mtimeout\u001b[0m: The read operation timed out",
            "\nDuring handling of the above exception, another exception occurred:\n",
            "\u001b[0;31mReadTimeoutError\u001b[0m                          Traceback (most recent call last)",
            "\u001b[0;32m/usr/local/lib/python3.7/dist-packages/requests/adapters.py\u001b[0m in \u001b[0;36msend\u001b[0;34m(self, request, stream, timeout, verify, cert, proxies)\u001b[0m\n\u001b[1;32m    448\u001b[0m                     \u001b[0mretries\u001b[0m\u001b[0;34m=\u001b[0m\u001b[0mself\u001b[0m\u001b[0;34m.\u001b[0m\u001b[0mmax_retries\u001b[0m\u001b[0;34m,\u001b[0m\u001b[0;34m\u001b[0m\u001b[0;34m\u001b[0m\u001b[0m\n\u001b[0;32m--> 449\u001b[0;31m                     \u001b[0mtimeout\u001b[0m\u001b[0;34m=\u001b[0m\u001b[0mtimeout\u001b[0m\u001b[0;34m\u001b[0m\u001b[0;34m\u001b[0m\u001b[0m\n\u001b[0m\u001b[1;32m    450\u001b[0m                 )\n",
            "\u001b[0;32m/usr/local/lib/python3.7/dist-packages/urllib3/connectionpool.py\u001b[0m in \u001b[0;36murlopen\u001b[0;34m(self, method, url, body, headers, retries, redirect, assert_same_host, timeout, pool_timeout, release_conn, chunked, body_pos, **response_kw)\u001b[0m\n\u001b[1;32m    637\u001b[0m             retries = retries.increment(method, url, error=e, _pool=self,\n\u001b[0;32m--> 638\u001b[0;31m                                         _stacktrace=sys.exc_info()[2])\n\u001b[0m\u001b[1;32m    639\u001b[0m             \u001b[0mretries\u001b[0m\u001b[0;34m.\u001b[0m\u001b[0msleep\u001b[0m\u001b[0;34m(\u001b[0m\u001b[0;34m)\u001b[0m\u001b[0;34m\u001b[0m\u001b[0;34m\u001b[0m\u001b[0m\n",
            "\u001b[0;32m/usr/local/lib/python3.7/dist-packages/urllib3/util/retry.py\u001b[0m in \u001b[0;36mincrement\u001b[0;34m(self, method, url, response, error, _pool, _stacktrace)\u001b[0m\n\u001b[1;32m    367\u001b[0m             \u001b[0;32mif\u001b[0m \u001b[0mread\u001b[0m \u001b[0;32mis\u001b[0m \u001b[0;32mFalse\u001b[0m \u001b[0;32mor\u001b[0m \u001b[0;32mnot\u001b[0m \u001b[0mself\u001b[0m\u001b[0;34m.\u001b[0m\u001b[0m_is_method_retryable\u001b[0m\u001b[0;34m(\u001b[0m\u001b[0mmethod\u001b[0m\u001b[0;34m)\u001b[0m\u001b[0;34m:\u001b[0m\u001b[0;34m\u001b[0m\u001b[0;34m\u001b[0m\u001b[0m\n\u001b[0;32m--> 368\u001b[0;31m                 \u001b[0;32mraise\u001b[0m \u001b[0msix\u001b[0m\u001b[0;34m.\u001b[0m\u001b[0mreraise\u001b[0m\u001b[0;34m(\u001b[0m\u001b[0mtype\u001b[0m\u001b[0;34m(\u001b[0m\u001b[0merror\u001b[0m\u001b[0;34m)\u001b[0m\u001b[0;34m,\u001b[0m \u001b[0merror\u001b[0m\u001b[0;34m,\u001b[0m \u001b[0m_stacktrace\u001b[0m\u001b[0;34m)\u001b[0m\u001b[0;34m\u001b[0m\u001b[0;34m\u001b[0m\u001b[0m\n\u001b[0m\u001b[1;32m    369\u001b[0m             \u001b[0;32melif\u001b[0m \u001b[0mread\u001b[0m \u001b[0;32mis\u001b[0m \u001b[0;32mnot\u001b[0m \u001b[0;32mNone\u001b[0m\u001b[0;34m:\u001b[0m\u001b[0;34m\u001b[0m\u001b[0;34m\u001b[0m\u001b[0m\n",
            "\u001b[0;32m/usr/local/lib/python3.7/dist-packages/urllib3/packages/six.py\u001b[0m in \u001b[0;36mreraise\u001b[0;34m(tp, value, tb)\u001b[0m\n\u001b[1;32m    685\u001b[0m             \u001b[0;32mraise\u001b[0m \u001b[0mvalue\u001b[0m\u001b[0;34m.\u001b[0m\u001b[0mwith_traceback\u001b[0m\u001b[0;34m(\u001b[0m\u001b[0mtb\u001b[0m\u001b[0;34m)\u001b[0m\u001b[0;34m\u001b[0m\u001b[0;34m\u001b[0m\u001b[0m\n\u001b[0;32m--> 686\u001b[0;31m         \u001b[0;32mraise\u001b[0m \u001b[0mvalue\u001b[0m\u001b[0;34m\u001b[0m\u001b[0;34m\u001b[0m\u001b[0m\n\u001b[0m\u001b[1;32m    687\u001b[0m \u001b[0;34m\u001b[0m\u001b[0m\n",
            "\u001b[0;32m/usr/local/lib/python3.7/dist-packages/urllib3/connectionpool.py\u001b[0m in \u001b[0;36murlopen\u001b[0;34m(self, method, url, body, headers, retries, redirect, assert_same_host, timeout, pool_timeout, release_conn, chunked, body_pos, **response_kw)\u001b[0m\n\u001b[1;32m    599\u001b[0m                                                   \u001b[0mbody\u001b[0m\u001b[0;34m=\u001b[0m\u001b[0mbody\u001b[0m\u001b[0;34m,\u001b[0m \u001b[0mheaders\u001b[0m\u001b[0;34m=\u001b[0m\u001b[0mheaders\u001b[0m\u001b[0;34m,\u001b[0m\u001b[0;34m\u001b[0m\u001b[0;34m\u001b[0m\u001b[0m\n\u001b[0;32m--> 600\u001b[0;31m                                                   chunked=chunked)\n\u001b[0m\u001b[1;32m    601\u001b[0m \u001b[0;34m\u001b[0m\u001b[0m\n",
            "\u001b[0;32m/usr/local/lib/python3.7/dist-packages/urllib3/connectionpool.py\u001b[0m in \u001b[0;36m_make_request\u001b[0;34m(self, conn, method, url, timeout, chunked, **httplib_request_kw)\u001b[0m\n\u001b[1;32m    385\u001b[0m         \u001b[0;32mexcept\u001b[0m \u001b[0;34m(\u001b[0m\u001b[0mSocketTimeout\u001b[0m\u001b[0;34m,\u001b[0m \u001b[0mBaseSSLError\u001b[0m\u001b[0;34m,\u001b[0m \u001b[0mSocketError\u001b[0m\u001b[0;34m)\u001b[0m \u001b[0;32mas\u001b[0m \u001b[0me\u001b[0m\u001b[0;34m:\u001b[0m\u001b[0;34m\u001b[0m\u001b[0;34m\u001b[0m\u001b[0m\n\u001b[0;32m--> 386\u001b[0;31m             \u001b[0mself\u001b[0m\u001b[0;34m.\u001b[0m\u001b[0m_raise_timeout\u001b[0m\u001b[0;34m(\u001b[0m\u001b[0merr\u001b[0m\u001b[0;34m=\u001b[0m\u001b[0me\u001b[0m\u001b[0;34m,\u001b[0m \u001b[0murl\u001b[0m\u001b[0;34m=\u001b[0m\u001b[0murl\u001b[0m\u001b[0;34m,\u001b[0m \u001b[0mtimeout_value\u001b[0m\u001b[0;34m=\u001b[0m\u001b[0mread_timeout\u001b[0m\u001b[0;34m)\u001b[0m\u001b[0;34m\u001b[0m\u001b[0;34m\u001b[0m\u001b[0m\n\u001b[0m\u001b[1;32m    387\u001b[0m             \u001b[0;32mraise\u001b[0m\u001b[0;34m\u001b[0m\u001b[0;34m\u001b[0m\u001b[0m\n",
            "\u001b[0;32m/usr/local/lib/python3.7/dist-packages/urllib3/connectionpool.py\u001b[0m in \u001b[0;36m_raise_timeout\u001b[0;34m(self, err, url, timeout_value)\u001b[0m\n\u001b[1;32m    305\u001b[0m         \u001b[0;32mif\u001b[0m \u001b[0misinstance\u001b[0m\u001b[0;34m(\u001b[0m\u001b[0merr\u001b[0m\u001b[0;34m,\u001b[0m \u001b[0mSocketTimeout\u001b[0m\u001b[0;34m)\u001b[0m\u001b[0;34m:\u001b[0m\u001b[0;34m\u001b[0m\u001b[0;34m\u001b[0m\u001b[0m\n\u001b[0;32m--> 306\u001b[0;31m             \u001b[0;32mraise\u001b[0m \u001b[0mReadTimeoutError\u001b[0m\u001b[0;34m(\u001b[0m\u001b[0mself\u001b[0m\u001b[0;34m,\u001b[0m \u001b[0murl\u001b[0m\u001b[0;34m,\u001b[0m \u001b[0;34m\"Read timed out. (read timeout=%s)\"\u001b[0m \u001b[0;34m%\u001b[0m \u001b[0mtimeout_value\u001b[0m\u001b[0;34m)\u001b[0m\u001b[0;34m\u001b[0m\u001b[0;34m\u001b[0m\u001b[0m\n\u001b[0m\u001b[1;32m    307\u001b[0m \u001b[0;34m\u001b[0m\u001b[0m\n",
            "\u001b[0;31mReadTimeoutError\u001b[0m: HTTPSConnectionPool(host='www1.nseindia.com', port=443): Read timed out. (read timeout=240)",
            "\nDuring handling of the above exception, another exception occurred:\n",
            "\u001b[0;31mReadTimeout\u001b[0m                               Traceback (most recent call last)",
            "\u001b[0;32m<ipython-input-15-c44e23a9e944>\u001b[0m in \u001b[0;36m<module>\u001b[0;34m()\u001b[0m\n\u001b[0;32m----> 1\u001b[0;31m \u001b[0mresponse\u001b[0m \u001b[0;34m=\u001b[0m \u001b[0mrequests\u001b[0m\u001b[0;34m.\u001b[0m\u001b[0mget\u001b[0m\u001b[0;34m(\u001b[0m\u001b[0;34m\"https://www1.nseindia.com/live_market/dynaContent/live_watch/equities_stock_watch.htm\"\u001b[0m\u001b[0;34m,\u001b[0m \u001b[0mtimeout\u001b[0m\u001b[0;34m=\u001b[0m\u001b[0;36m240\u001b[0m\u001b[0;34m)\u001b[0m\u001b[0;34m\u001b[0m\u001b[0;34m\u001b[0m\u001b[0m\n\u001b[0m\u001b[1;32m      2\u001b[0m \u001b[0mresponse\u001b[0m\u001b[0;34m.\u001b[0m\u001b[0mstatus_code\u001b[0m\u001b[0;34m\u001b[0m\u001b[0;34m\u001b[0m\u001b[0m\n\u001b[1;32m      3\u001b[0m \u001b[0mresponse\u001b[0m\u001b[0;34m.\u001b[0m\u001b[0mcontent\u001b[0m\u001b[0;34m\u001b[0m\u001b[0;34m\u001b[0m\u001b[0m\n",
            "\u001b[0;32m/usr/local/lib/python3.7/dist-packages/requests/api.py\u001b[0m in \u001b[0;36mget\u001b[0;34m(url, params, **kwargs)\u001b[0m\n\u001b[1;32m     74\u001b[0m \u001b[0;34m\u001b[0m\u001b[0m\n\u001b[1;32m     75\u001b[0m     \u001b[0mkwargs\u001b[0m\u001b[0;34m.\u001b[0m\u001b[0msetdefault\u001b[0m\u001b[0;34m(\u001b[0m\u001b[0;34m'allow_redirects'\u001b[0m\u001b[0;34m,\u001b[0m \u001b[0;32mTrue\u001b[0m\u001b[0;34m)\u001b[0m\u001b[0;34m\u001b[0m\u001b[0;34m\u001b[0m\u001b[0m\n\u001b[0;32m---> 76\u001b[0;31m     \u001b[0;32mreturn\u001b[0m \u001b[0mrequest\u001b[0m\u001b[0;34m(\u001b[0m\u001b[0;34m'get'\u001b[0m\u001b[0;34m,\u001b[0m \u001b[0murl\u001b[0m\u001b[0;34m,\u001b[0m \u001b[0mparams\u001b[0m\u001b[0;34m=\u001b[0m\u001b[0mparams\u001b[0m\u001b[0;34m,\u001b[0m \u001b[0;34m**\u001b[0m\u001b[0mkwargs\u001b[0m\u001b[0;34m)\u001b[0m\u001b[0;34m\u001b[0m\u001b[0;34m\u001b[0m\u001b[0m\n\u001b[0m\u001b[1;32m     77\u001b[0m \u001b[0;34m\u001b[0m\u001b[0m\n\u001b[1;32m     78\u001b[0m \u001b[0;34m\u001b[0m\u001b[0m\n",
            "\u001b[0;32m/usr/local/lib/python3.7/dist-packages/requests/api.py\u001b[0m in \u001b[0;36mrequest\u001b[0;34m(method, url, **kwargs)\u001b[0m\n\u001b[1;32m     59\u001b[0m     \u001b[0;31m# cases, and look like a memory leak in others.\u001b[0m\u001b[0;34m\u001b[0m\u001b[0;34m\u001b[0m\u001b[0;34m\u001b[0m\u001b[0m\n\u001b[1;32m     60\u001b[0m     \u001b[0;32mwith\u001b[0m \u001b[0msessions\u001b[0m\u001b[0;34m.\u001b[0m\u001b[0mSession\u001b[0m\u001b[0;34m(\u001b[0m\u001b[0;34m)\u001b[0m \u001b[0;32mas\u001b[0m \u001b[0msession\u001b[0m\u001b[0;34m:\u001b[0m\u001b[0;34m\u001b[0m\u001b[0;34m\u001b[0m\u001b[0m\n\u001b[0;32m---> 61\u001b[0;31m         \u001b[0;32mreturn\u001b[0m \u001b[0msession\u001b[0m\u001b[0;34m.\u001b[0m\u001b[0mrequest\u001b[0m\u001b[0;34m(\u001b[0m\u001b[0mmethod\u001b[0m\u001b[0;34m=\u001b[0m\u001b[0mmethod\u001b[0m\u001b[0;34m,\u001b[0m \u001b[0murl\u001b[0m\u001b[0;34m=\u001b[0m\u001b[0murl\u001b[0m\u001b[0;34m,\u001b[0m \u001b[0;34m**\u001b[0m\u001b[0mkwargs\u001b[0m\u001b[0;34m)\u001b[0m\u001b[0;34m\u001b[0m\u001b[0;34m\u001b[0m\u001b[0m\n\u001b[0m\u001b[1;32m     62\u001b[0m \u001b[0;34m\u001b[0m\u001b[0m\n\u001b[1;32m     63\u001b[0m \u001b[0;34m\u001b[0m\u001b[0m\n",
            "\u001b[0;32m/usr/local/lib/python3.7/dist-packages/requests/sessions.py\u001b[0m in \u001b[0;36mrequest\u001b[0;34m(self, method, url, params, data, headers, cookies, files, auth, timeout, allow_redirects, proxies, hooks, stream, verify, cert, json)\u001b[0m\n\u001b[1;32m    528\u001b[0m         }\n\u001b[1;32m    529\u001b[0m         \u001b[0msend_kwargs\u001b[0m\u001b[0;34m.\u001b[0m\u001b[0mupdate\u001b[0m\u001b[0;34m(\u001b[0m\u001b[0msettings\u001b[0m\u001b[0;34m)\u001b[0m\u001b[0;34m\u001b[0m\u001b[0;34m\u001b[0m\u001b[0m\n\u001b[0;32m--> 530\u001b[0;31m         \u001b[0mresp\u001b[0m \u001b[0;34m=\u001b[0m \u001b[0mself\u001b[0m\u001b[0;34m.\u001b[0m\u001b[0msend\u001b[0m\u001b[0;34m(\u001b[0m\u001b[0mprep\u001b[0m\u001b[0;34m,\u001b[0m \u001b[0;34m**\u001b[0m\u001b[0msend_kwargs\u001b[0m\u001b[0;34m)\u001b[0m\u001b[0;34m\u001b[0m\u001b[0;34m\u001b[0m\u001b[0m\n\u001b[0m\u001b[1;32m    531\u001b[0m \u001b[0;34m\u001b[0m\u001b[0m\n\u001b[1;32m    532\u001b[0m         \u001b[0;32mreturn\u001b[0m \u001b[0mresp\u001b[0m\u001b[0;34m\u001b[0m\u001b[0;34m\u001b[0m\u001b[0m\n",
            "\u001b[0;32m/usr/local/lib/python3.7/dist-packages/requests/sessions.py\u001b[0m in \u001b[0;36msend\u001b[0;34m(self, request, **kwargs)\u001b[0m\n\u001b[1;32m    641\u001b[0m \u001b[0;34m\u001b[0m\u001b[0m\n\u001b[1;32m    642\u001b[0m         \u001b[0;31m# Send the request\u001b[0m\u001b[0;34m\u001b[0m\u001b[0;34m\u001b[0m\u001b[0;34m\u001b[0m\u001b[0m\n\u001b[0;32m--> 643\u001b[0;31m         \u001b[0mr\u001b[0m \u001b[0;34m=\u001b[0m \u001b[0madapter\u001b[0m\u001b[0;34m.\u001b[0m\u001b[0msend\u001b[0m\u001b[0;34m(\u001b[0m\u001b[0mrequest\u001b[0m\u001b[0;34m,\u001b[0m \u001b[0;34m**\u001b[0m\u001b[0mkwargs\u001b[0m\u001b[0;34m)\u001b[0m\u001b[0;34m\u001b[0m\u001b[0;34m\u001b[0m\u001b[0m\n\u001b[0m\u001b[1;32m    644\u001b[0m \u001b[0;34m\u001b[0m\u001b[0m\n\u001b[1;32m    645\u001b[0m         \u001b[0;31m# Total elapsed time of the request (approximately)\u001b[0m\u001b[0;34m\u001b[0m\u001b[0;34m\u001b[0m\u001b[0;34m\u001b[0m\u001b[0m\n",
            "\u001b[0;32m/usr/local/lib/python3.7/dist-packages/requests/adapters.py\u001b[0m in \u001b[0;36msend\u001b[0;34m(self, request, stream, timeout, verify, cert, proxies)\u001b[0m\n\u001b[1;32m    527\u001b[0m                 \u001b[0;32mraise\u001b[0m \u001b[0mSSLError\u001b[0m\u001b[0;34m(\u001b[0m\u001b[0me\u001b[0m\u001b[0;34m,\u001b[0m \u001b[0mrequest\u001b[0m\u001b[0;34m=\u001b[0m\u001b[0mrequest\u001b[0m\u001b[0;34m)\u001b[0m\u001b[0;34m\u001b[0m\u001b[0;34m\u001b[0m\u001b[0m\n\u001b[1;32m    528\u001b[0m             \u001b[0;32melif\u001b[0m \u001b[0misinstance\u001b[0m\u001b[0;34m(\u001b[0m\u001b[0me\u001b[0m\u001b[0;34m,\u001b[0m \u001b[0mReadTimeoutError\u001b[0m\u001b[0;34m)\u001b[0m\u001b[0;34m:\u001b[0m\u001b[0;34m\u001b[0m\u001b[0;34m\u001b[0m\u001b[0m\n\u001b[0;32m--> 529\u001b[0;31m                 \u001b[0;32mraise\u001b[0m \u001b[0mReadTimeout\u001b[0m\u001b[0;34m(\u001b[0m\u001b[0me\u001b[0m\u001b[0;34m,\u001b[0m \u001b[0mrequest\u001b[0m\u001b[0;34m=\u001b[0m\u001b[0mrequest\u001b[0m\u001b[0;34m)\u001b[0m\u001b[0;34m\u001b[0m\u001b[0;34m\u001b[0m\u001b[0m\n\u001b[0m\u001b[1;32m    530\u001b[0m             \u001b[0;32melse\u001b[0m\u001b[0;34m:\u001b[0m\u001b[0;34m\u001b[0m\u001b[0;34m\u001b[0m\u001b[0m\n\u001b[1;32m    531\u001b[0m                 \u001b[0;32mraise\u001b[0m\u001b[0;34m\u001b[0m\u001b[0;34m\u001b[0m\u001b[0m\n",
            "\u001b[0;31mReadTimeout\u001b[0m: HTTPSConnectionPool(host='www1.nseindia.com', port=443): Read timed out. (read timeout=240)"
          ]
        }
      ]
    },
    {
      "cell_type": "markdown",
      "metadata": {
        "id": "xk55RHbP8Is5"
      },
      "source": [
        "#### Getting Json and parsing it"
      ]
    },
    {
      "cell_type": "code",
      "metadata": {
        "ExecuteTime": {
          "end_time": "2018-08-11T09:42:47.729322Z",
          "start_time": "2018-08-11T09:42:46.667213Z"
        },
        "id": "GYqWx6aI8Is6",
        "outputId": "d05bf640-10ee-4776-f2eb-89363f83934f"
      },
      "source": [
        "url = \"https://jsonplaceholder.typicode.com/posts/1\"\n",
        "response = requests.get(url, timeout=240)\n",
        "response.status_code\n",
        "response.json()\n",
        "\n",
        "content = response.json()\n",
        "content.keys()"
      ],
      "execution_count": null,
      "outputs": [
        {
          "data": {
            "text/plain": [
              "200"
            ]
          },
          "execution_count": 14,
          "metadata": {},
          "output_type": "execute_result"
        },
        {
          "data": {
            "text/plain": [
              "{'body': 'quia et suscipit\\nsuscipit recusandae consequuntur expedita et cum\\nreprehenderit molestiae ut ut quas totam\\nnostrum rerum est autem sunt rem eveniet architecto',\n",
              " 'id': 1,\n",
              " 'title': 'sunt aut facere repellat provident occaecati excepturi optio reprehenderit',\n",
              " 'userId': 1}"
            ]
          },
          "execution_count": 14,
          "metadata": {},
          "output_type": "execute_result"
        },
        {
          "data": {
            "text/plain": [
              "dict_keys(['userId', 'id', 'title', 'body'])"
            ]
          },
          "execution_count": 14,
          "metadata": {},
          "output_type": "execute_result"
        }
      ]
    },
    {
      "cell_type": "markdown",
      "metadata": {
        "id": "1cNVQrh-8Is8"
      },
      "source": [
        "#### Checking Status Codes for errors"
      ]
    },
    {
      "cell_type": "code",
      "metadata": {
        "ExecuteTime": {
          "end_time": "2018-08-10T09:28:59.494943Z",
          "start_time": "2018-08-10T09:28:59.489840Z"
        },
        "collapsed": true,
        "id": "x8xsX5608Is8"
      },
      "source": [
        "def request_with_check(url):\n",
        "    page_response = requests.get(url, timeout=240)\n",
        "    status = page_response.status_code\n",
        "    if status>299:\n",
        "        raise AssertionError(\"page content not found, status: %s\"%status)\n",
        "    return page_response"
      ],
      "execution_count": null,
      "outputs": []
    },
    {
      "cell_type": "code",
      "metadata": {
        "ExecuteTime": {
          "end_time": "2018-07-28T15:22:29.035356Z",
          "start_time": "2018-07-28T15:22:28.737273Z"
        },
        "id": "gKFVl8vQ8Is9",
        "outputId": "c0a45933-f9b2-45a5-cb0f-3a4946a4311f"
      },
      "source": [
        "request_with_check(\"https://www.google.co.in/mycustom404page\")"
      ],
      "execution_count": null,
      "outputs": [
        {
          "ename": "AssertionError",
          "evalue": "page content not found, status: 404",
          "output_type": "error",
          "traceback": [
            "\u001b[0;31m---------------------------------------------------------------------------\u001b[0m",
            "\u001b[0;31mAssertionError\u001b[0m                            Traceback (most recent call last)",
            "\u001b[0;32m<ipython-input-162-6fdebc3d6bf5>\u001b[0m in \u001b[0;36m<module>\u001b[0;34m()\u001b[0m\n\u001b[0;32m----> 1\u001b[0;31m \u001b[0mrequest_with_check\u001b[0m\u001b[0;34m(\u001b[0m\u001b[0;34m\"https://www.google.co.in/mycustom404page\"\u001b[0m\u001b[0;34m)\u001b[0m\u001b[0;34m\u001b[0m\u001b[0m\n\u001b[0m",
            "\u001b[0;32m<ipython-input-161-262a3f4b7218>\u001b[0m in \u001b[0;36mrequest_with_check\u001b[0;34m(url)\u001b[0m\n\u001b[1;32m      3\u001b[0m     \u001b[0mstatus\u001b[0m \u001b[0;34m=\u001b[0m \u001b[0mpage_response\u001b[0m\u001b[0;34m.\u001b[0m\u001b[0mstatus_code\u001b[0m\u001b[0;34m\u001b[0m\u001b[0m\n\u001b[1;32m      4\u001b[0m     \u001b[0;32mif\u001b[0m \u001b[0mstatus\u001b[0m\u001b[0;34m>\u001b[0m\u001b[0;36m299\u001b[0m\u001b[0;34m:\u001b[0m\u001b[0;34m\u001b[0m\u001b[0m\n\u001b[0;32m----> 5\u001b[0;31m         \u001b[0;32mraise\u001b[0m \u001b[0mAssertionError\u001b[0m\u001b[0;34m(\u001b[0m\u001b[0;34m\"page content not found, status: %s\"\u001b[0m\u001b[0;34m%\u001b[0m\u001b[0mstatus\u001b[0m\u001b[0;34m)\u001b[0m\u001b[0;34m\u001b[0m\u001b[0m\n\u001b[0m\u001b[1;32m      6\u001b[0m     \u001b[0;32mreturn\u001b[0m \u001b[0mpage_response\u001b[0m\u001b[0;34m\u001b[0m\u001b[0m\n",
            "\u001b[0;31mAssertionError\u001b[0m: page content not found, status: 404"
          ]
        }
      ]
    },
    {
      "cell_type": "code",
      "metadata": {
        "ExecuteTime": {
          "end_time": "2018-07-28T15:22:48.062201Z",
          "start_time": "2018-07-28T15:22:47.738136Z"
        },
        "id": "f12fG87V8Is-",
        "outputId": "d75e664d-8eb3-4c57-cd71-65b52c1001e4"
      },
      "source": [
        "request_with_check(\"https://www.google.co.in/\")"
      ],
      "execution_count": null,
      "outputs": [
        {
          "data": {
            "text/plain": [
              "<Response [200]>"
            ]
          },
          "execution_count": 163,
          "metadata": {},
          "output_type": "execute_result"
        }
      ]
    },
    {
      "cell_type": "markdown",
      "metadata": {
        "id": "X6IsObGK8Is_"
      },
      "source": [
        "### Parsing and Traversal"
      ]
    },
    {
      "cell_type": "markdown",
      "metadata": {
        "id": "RGuEv8M-8ItA"
      },
      "source": [
        "- Getting body of a page and rendering it\n",
        "- Inspecting Elements in Chrome\n",
        "- Ways of getting element contents\n",
        "- Traversals of childrens\n",
        "- Getting Text and numbers\n",
        "- Tables"
      ]
    },
    {
      "cell_type": "markdown",
      "metadata": {
        "id": "R2XiFRmm8ItC"
      },
      "source": [
        "#### Rendering HTML in Jupyter notebook"
      ]
    },
    {
      "cell_type": "code",
      "metadata": {
        "ExecuteTime": {
          "end_time": "2018-08-12T06:43:37.444652Z",
          "start_time": "2018-08-12T06:43:37.430048Z"
        },
        "id": "rBc4tlUK8ItC",
        "outputId": "9878d96e-8262-4455-d7ba-da530f6a132b"
      },
      "source": [
        "from IPython.core.display import HTML\n",
        "HTML(\"<b>Rendered HTML</b>\")\n"
      ],
      "execution_count": null,
      "outputs": [
        {
          "data": {
            "text/html": [
              "<b>Rendered HTML</b>"
            ],
            "text/plain": [
              "<IPython.core.display.HTML object>"
            ]
          },
          "execution_count": 5,
          "metadata": {},
          "output_type": "execute_result"
        }
      ]
    },
    {
      "cell_type": "markdown",
      "metadata": {
        "id": "Of-KU7Q98ItM"
      },
      "source": [
        "Here We download the page, parse using BeautifulSoup and then find the body tag content. Next we render the body tag."
      ]
    },
    {
      "cell_type": "code",
      "metadata": {
        "ExecuteTime": {
          "end_time": "2018-08-11T13:53:20.724966Z",
          "start_time": "2018-08-11T13:53:20.330754Z"
        },
        "id": "BFxv5-328ItN",
        "outputId": "b468638e-01d6-495a-8a70-e99166f1172d"
      },
      "source": [
        "page_response = requests.get(\"https://www.moneycontrol.com/india/stockpricequote/auto-2-3-wheelers/heromotocorp/HHM\", timeout=240)\n",
        "page_content = BeautifulSoup(page_response.content, \"html.parser\")\n",
        "HTML(str(page_content.find(\"h1\")))\n",
        "\n",
        "HTML(str(page_content.find(\"div\",attrs={'id':\"content_full\"})))"
      ],
      "execution_count": null,
      "outputs": [
        {
          "data": {
            "text/html": [
              "<h1 class=\"b_42 company_name\">Hero Motocorp Ltd.</h1>"
            ],
            "text/plain": [
              "<IPython.core.display.HTML object>"
            ]
          },
          "execution_count": 19,
          "metadata": {},
          "output_type": "execute_result"
        },
        {
          "data": {
            "text/html": [
              "<div class=\"stockDtl PB30\" id=\"content_full\">\n",
              "<div id=\"precontent_new_full\">\n",
              "<div id=\"precontent_new_bse\"></div>\n",
              "<div id=\"precontent_new_nse\"></div>\n",
              "</div>\n",
              "<div class=\"FL bseStDtl\" id=\"content_bse\">\n",
              "<div class=\"brdb PB5\">\n",
              "<div class=\"FL gL_10 bseArr PT4 w70\">\n",
              "<div class=\"FR MT2 live\">LIVE</div>\n",
              "<div class=\"FR PR3\"><span class=\"bl_15\"><strong>BSE</strong></span></div>\n",
              "<div class=\"CL\" id=\"bse_upd_time\" style=\"font-size:11px;line-height:2;\">Aug 10, 15:50</div>\n",
              "</div>\n",
              "<div class=\"FL PR5 gD_30\" id=\"Bse_Prc_tick_div\"><span id=\"Bse_Prc_tick\"><strong>3321.40</strong></span></div>\n",
              "<div class=\"FL gL_13 PT15\" id=\"b_changetext\"> <span class=\"gr_15 uparw_pc\"><strong>46.25</strong></span> (+1.41%)</div>\n",
              "<div class=\"FL gL_10 PL10 PR PT15\">\n",
              "<span id=\"tt02\">VOLUME <span class=\"info_pc\"></span> <span class=\"gD_12\" id=\"bse_volume\"><strong>25,471</strong></span></span>\n",
              "<div class=\"tooltip2\">\n",
              "<div class=\"title2 MB5\">AVERAGE VOLUME</div>\n",
              "<div class=\"w122 brdb\">\n",
              "<table border=\"0\" cellpadding=\"0\" cellspacing=\"0\" width=\"100%\">\n",
              "<tr>\n",
              "<td class=\"gL_11\">5-Day</td>\n",
              "<td align=\"right\" class=\"gD_11\" id=\"avgvol5daysB\"><strong>16,400</strong></td>\n",
              "</tr>\n",
              "</table>\n",
              "</div>\n",
              "<div class=\"w122 brdb\">\n",
              "<table border=\"0\" cellpadding=\"0\" cellspacing=\"0\" width=\"100%\">\n",
              "<tr>\n",
              "<td class=\"gL_11\">10-Day</td>\n",
              "<td align=\"right\" class=\"gD_11\" id=\"avgvol10daysB\"><strong>24,652</strong></td>\n",
              "</tr>\n",
              "</table>\n",
              "</div>\n",
              "<div class=\"w122\">\n",
              "<table border=\"0\" cellpadding=\"0\" cellspacing=\"0\" width=\"100%\">\n",
              "<tr>\n",
              "<td class=\"gL_11\">30-Day</td>\n",
              "<td align=\"right\" class=\"gD_11\" id=\"avgvol30daysB\"><strong>33,712</strong></td>\n",
              "</tr>\n",
              "</table>\n",
              "</div>\n",
              "</div>\n",
              "<div class=\"tooltip5\">\n",
              "<div class=\"title2 MB5\">VOLUME SHOCKER</div>\n",
              "<div class=\"w122 brdb\">\n",
              "<table border=\"0\" cellpadding=\"0\" cellspacing=\"0\" width=\"100%\">\n",
              "<tr>\n",
              "<td class=\"gL_11\">5-Day</td>\n",
              "<td align=\"right\" class=\"gD_11\" id=\"avgshkrvol5daysB\"><strong>16,400</strong></td>\n",
              "</tr>\n",
              "</table>\n",
              "</div>\n",
              "<div class=\"w122 brdb\">\n",
              "<table border=\"0\" cellpadding=\"0\" cellspacing=\"0\" width=\"100%\">\n",
              "<tr>\n",
              "<td class=\"gL_11\">10-Day</td>\n",
              "<td align=\"right\" class=\"gD_11\" id=\"avgshkrvol10daysB\"><strong>24,652</strong></td>\n",
              "</tr>\n",
              "</table>\n",
              "</div>\n",
              "<div class=\"w122\">\n",
              "<table border=\"0\" cellpadding=\"0\" cellspacing=\"0\" width=\"100%\">\n",
              "<tr>\n",
              "<td class=\"gL_11\">30-Day</td>\n",
              "<td align=\"right\" class=\"gD_11\" id=\"avgshkrvol30daysB\"><strong>33,712</strong></td>\n",
              "</tr>\n",
              "</table>\n",
              "</div>\n",
              "</div>\n",
              "</div>\n",
              "<div class=\"CL\"></div>\n",
              "</div>\n",
              "<div class=\"brdb PA5\">\n",
              "<div class=\"FL PR15 PL15 brdr\">\n",
              "<div class=\"PT3 PB3 UC gL_10\">Prev. Close</div>\n",
              "<div class=\"gD_12 PB3\" id=\"b_prevclose\"><strong>3275.15</strong></div>\n",
              "</div>\n",
              "<div class=\"FL PR15 PL15 brdr\">\n",
              "<div class=\"PT3 PB3 UC gL_10\">Open Price</div>\n",
              "<div class=\"gD_12 PB3\" id=\"b_open\"><strong>3286.00</strong></div>\n",
              "</div>\n",
              "<div class=\"FL PR15 PL15 brdr\">\n",
              "<div class=\"PT3 PB3 UC gL_10\">Bid PRICE (QTY.)</div>\n",
              "<div class=\"gD_12 PB3\" id=\"b_bidprice_qty\"><strong>3300.00 (9)</strong></div>\n",
              "</div>\n",
              "<div class=\"FL PL15\">\n",
              "<div class=\"PT3 PB3 UC gL_10\">Offer PRICE (Qty.)</div>\n",
              "<div class=\"gD_12 PB3\" id=\"b_offerprice_qty\"><strong>3320.00 (21)</strong></div>\n",
              "</div>\n",
              "<div class=\"CL\"></div>\n",
              "</div>\n",
              "<style>\r\n",
              "\r\n",
              ".w95{width:95px;}\r\n",
              "\r\n",
              "/*.mdbox{background:url(images/sep_bg.png) no-repeat right top; height:31px; padding-right:10px; float:left; width:50px;}*/\r\n",
              "\r\n",
              "#nChrtPrc .TAL{text-align:left !important;}\r\n",
              "\r\n",
              ".b_52high{color:#449703}\r\n",
              "\r\n",
              ".md_bubble_box{position:absolute; width:265px; z-index:9; left:55px; top:-10px; display:none;}\r\n",
              "\r\n",
              ".md_bubble{position: relative;background: #FFFFFF;border: 1px solid #cdcdcd; border-radius:5px; box-shadow:1px 1px 4px #CCC}\r\n",
              "\r\n",
              ".md_bubble:after, .md_bubble:before {right: 100%;top: 30px;border: solid transparent;content: \" \";height: 0;width: 0;position: absolute;pointer-events: none;}\r\n",
              "\r\n",
              ".md_bubble:after {border-color: rgba(255, 255, 255, 0);border-right-color: #FFFFFF;border-width: 7px;margin-top: -7px;}\r\n",
              "\r\n",
              ".md_bubble:before {border-color: rgba(205, 205, 205, 0);border-right-color: #cdcdcd;border-width: 8px;margin-top: -8px;}\r\n",
              "\r\n",
              ".md_bubble h3{font:bold 14px Arial; color:#00506a; text-transform:uppercase; padding:7px 0;}\r\n",
              "\r\n",
              ".md_bubble h3 span{color:#919191; font-size:10px;}\r\n",
              "\r\n",
              ".md_cntbx{padding:8px 8px 0 8px;}\r\n",
              "\r\n",
              ".md_cntbx th,.md_cntbx td{padding:5px;}\r\n",
              "\r\n",
              ".md_cntbx th{background:#f0f0f0; font:bold 10px/15px Arial; text-align:center;}\r\n",
              "\r\n",
              ".md_cntbx th.grn{color:#4f9514;}\r\n",
              "\r\n",
              ".md_cntbx th.red{color:#cc2222;}\r\n",
              "\r\n",
              ".md_cntbx th.brdr{border-right:1px solid #FFF;}\r\n",
              "\r\n",
              ".md_cntbx td{font:10px Arial; color:#000;}\r\n",
              "\r\n",
              ".PA30{padding:30px;}\r\n",
              "\r\n",
              ".newlts_popupbx{width:630px; margin:0 auto; padding-bottom:5px; overflow:auto;z-index:100000;position:fixed; display: none; top:25% !important;left:0; }\r\n",
              "\r\n",
              ".back2 {display:none;position:absolute;top:0;left:0; background:url(https://img-d02.moneycontrol.co.in/images/stocks/overlay-bg.png) repeat;filter:progid:DXImageTransform.Microsoft.AlphaImageLoader(enabled='true', src='https://img-d02.moneycontrol.co.in/images/stocks/overlay-bg.png', sizingMethod=scale);*background-image:none;filter:progid:DXImageTransform.Microsoft.AlphaImageLoader(enabled=true, sizingMethod=scale, src='https://img-d02.moneycontrol.co.in/images/stocks/overlay-bg.png');z-index:5000;\r\n",
              "\r\n",
              "text-align:left;}\r\n",
              "\r\n",
              ".closebt{ display:inline-block; position:absolute; top:12px; right:12px; width:12px; height:12px; background:url(https://img-d02.moneycontrol.co.in/images/stocks/close_btn.png) 0 0 no-repeat; cursor:pointer;}\r\n",
              "\r\n",
              ".myth_cnt{background:#ffffff; border-radius:5px;}\r\n",
              "\r\n",
              ".pp_title{ color:#015c7c; text-transform:uppercase; font:bold 19px Arial, Helvetica, sans-serif; border-bottom:1px solid #d5d5d5;}\r\n",
              "\r\n",
              ".gd_in14{color:#585858; font:bold 14px Arial, Helvetica, sans-serif; text-transform:uppercase;}\r\n",
              "\r\n",
              "\r\n",
              "\r\n",
              "</style>\n",
              "<script>\r\n",
              "\r\n",
              "$(document).ready(function() {\r\n",
              "\r\n",
              "\t$('.mdbox_popup').hover(function(){\r\n",
              "\r\n",
              "\t\t$(this).find('.md_bubble_box').fadeIn('slow');\r\n",
              "\r\n",
              "\t\t},function(){\r\n",
              "\r\n",
              "\t\t$(this).find('.md_bubble_box').fadeOut('slow');\t\t\r\n",
              "\r\n",
              "\t})\r\n",
              "\r\n",
              "});\r\n",
              "\r\n",
              "</script>\n",
              "<div class=\"PT10 clearfix\">\n",
              "<div class=\"FL PR10 PL15 brdr\">\n",
              "<div class=\"PB5 brdb\">\n",
              "<span class=\"gL_10 UC FL\"><strong>VWAP</strong></span>\n",
              "<span class=\"info_pc ML3 FL\" onclick=\"show_vwap_cp_chart('BSE');\" style=\"cursor:pointer;\"></span>\n",
              "<span class=\"gD_11 ML3\"><strong id=\"b_vwap_val\">3310.78</strong></span>\n",
              "<a class=\"ML3 FR\" href=\"#\" id=\"b_vwap_chart\"></a>\n",
              "</div>\n",
              "<div class=\"MT2 clearfix\">\n",
              "<div class=\"mdbox_popup mdbox TAL PR FL\"><span class=\"gL_10 UC\" id=\"md_name\"><strong>Market<br/>Depth</strong></span> <span class=\"info_pc\"></span>\n",
              "<div class=\"md_bubble_box\" id=\"best_5_box\">\n",
              "<div class=\"md_bubble\">\n",
              "<div class=\"md_cntbx\">\n",
              "<h3>Market Depth <span>(11 Aug 2018)</span></h3>\n",
              "<table border=\"0\" cellpadding=\"0\" cellspacing=\"0\" id=\"best_5_box_table\" width=\"100%\">\n",
              "<tr>\n",
              "<th class=\"brdr grn\" colspan=\"2\">BUY</th>\n",
              "<th class=\"red\" colspan=\"2\">SELL</th>\n",
              "</tr>\n",
              "<tr>\n",
              "<td class=\"brdb\"><strong>QTY</strong></td>\n",
              "<td class=\"brdb brdr tar\"><strong>PRICE</strong></td>\n",
              "<td class=\"brdb\"><strong>PRICE</strong></td>\n",
              "<td class=\"brdb tar\"><strong>QTY</strong></td>\n",
              "</tr>\n",
              "<tr>\n",
              "<td>39</td>\n",
              "<td class=\"brdr tar\">3300.00</td>\n",
              "<td>3308.90</td>\n",
              "<td class=\"tar\">10</td>\n",
              "</tr>\n",
              "<tr>\n",
              "<td>10</td>\n",
              "<td class=\"brdr tar\">3293.55</td>\n",
              "<td>3311.65</td>\n",
              "<td class=\"tar\">2</td>\n",
              "</tr>\n",
              "<tr>\n",
              "<td>15</td>\n",
              "<td class=\"brdr tar\">3292.10</td>\n",
              "<td>3314.90</td>\n",
              "<td class=\"tar\">7</td>\n",
              "</tr>\n",
              "<tr>\n",
              "<td>1</td>\n",
              "<td class=\"brdr tar\">3291.00</td>\n",
              "<td>3315.90</td>\n",
              "<td class=\"tar\">10</td>\n",
              "</tr>\n",
              "<tr>\n",
              "<td>2</td>\n",
              "<td class=\"brdr tar\">3290.00</td>\n",
              "<td>3320.00</td>\n",
              "<td class=\"tar\">27</td>\n",
              "</tr>\n",
              "<tr>\n",
              "<td class=\"brdt\" id=\"b_tot_total_buy_qty\"><strong>1631</strong></td>\n",
              "<td class=\"brdt brdr tar UC\"><strong>Total</strong></td>\n",
              "<td class=\"brdt\" id=\"b_tot_total_sell_qty\"><strong>2087</strong></td>\n",
              "<td class=\"brdt tar UC\"><strong>Total</strong></td>\n",
              "</tr>\n",
              "</table>\n",
              "</div>\n",
              "</div>\n",
              "</div>\n",
              "</div>\n",
              "<div class=\"FL ML10 w95 clearfix\">\n",
              "<div class=\"UC gL_10 clearfix\">\n",
              "<p class=\"FL\">Buy Qty </p>\n",
              "<p class=\"FR\" id=\"b_total_buy_qty\">1631</p>\n",
              "</div>\n",
              "<div class=\"UC gL_10 clearfix\">\n",
              "<p class=\"FL\">Sell QTY </p>\n",
              "<p class=\"FR\" id=\"b_total_sell_qty\">2087</p>\n",
              "</div>\n",
              "</div>\n",
              "</div>\n",
              "</div>\n",
              "<div class=\"FR\">\n",
              "<div class=\"PB3 gD_11\">\n",
              "<span class=\"gL_10 UC PR10\">Today's Low/High</span>\n",
              "<span class=\"PR5\" id=\"b_low_sh\">3266.10</span>\n",
              "<span class=\"stockLH\"> <span class=\"bar\" id=\"bse_range\" style=\"width:76%\"></span> </span>\n",
              "<span class=\"PL5\" id=\"b_high_sh\">3338.95</span>\n",
              "</div>\n",
              "<div class=\"PB3 gD_11\">\n",
              "<span class=\"gL_10 UC PR10\">52 Wk Low/High</span>\n",
              "<span class=\"PR5\" id=\"b_52low\">3037.10</span>\n",
              "<span class=\"stockLH\"> <span class=\"bar\" id=\"bse_52range\" style=\"width:24%\"></span> </span>\n",
              "<span class=\"PL5\" id=\"b_52high\">4200.00</span>\n",
              "</div>\n",
              "<div class=\"PB3 gD_11\">\n",
              "<span class=\"gL_10 UC PR10\">L/U Price Band</span>\n",
              "<span class=\"PR5\" id=\"b_low_price_limit\">2,947.65</span>\n",
              "<span class=\"stockLH\"> <span class=\"bar\" id=\"b_low_high_price_range\" style=\"width:%\"></span> </span>\n",
              "<span class=\"PL5\" id=\"b_high_price_limit\">3,602.65</span>\n",
              "</div>\n",
              "</div>\n",
              "</div>\n",
              "</div>\n",
              "<div class=\"FR nseStDtl\" id=\"content_nse\">\n",
              "<div class=\"brdb PB5\">\n",
              "<div class=\"FL gL_10 bseArr PT4 w70\">\n",
              "<div class=\"FR MT2 live\">LIVE</div>\n",
              "<div class=\"FR PR3\"><span class=\"bl_15\"><strong>NSE</strong></span></div>\n",
              "<div class=\"CL\" id=\"nse_upd_time\" style=\"font-size:11px;line-height:2;\">Aug 10, 15:59</div>\n",
              "</div>\n",
              "<div class=\"FL PR5 gD_30\" id=\"Nse_Prc_tick_div\"><span class=\"PA2\" id=\"Nse_Prc_tick\"><strong>3319.40</strong></span></div>\n",
              "<div class=\"FL gL_13 PT15\" id=\"n_changetext\"> <span class=\"gr_15 uparw_pc\"><strong>38.05</strong></span> (+1.16%)</div>\n",
              "<div class=\"FL gL_10 PL10 PR PT15\">\n",
              "<span id=\"tt03\">VOLUME <span class=\"info_pc\"></span> <span class=\"gD_12\" id=\"nse_volume\"><strong>356,538</strong></span></span>\n",
              "<div class=\"tooltip3\">\n",
              "<div class=\"title2 MB5\">AVERAGE VOLUME</div>\n",
              "<div class=\"w122 brdb\">\n",
              "<table border=\"0\" cellpadding=\"0\" cellspacing=\"0\" width=\"100%\">\n",
              "<tr>\n",
              "<td class=\"gL_11\">5-Day</td>\n",
              "<td align=\"right\" class=\"gD_11\" id=\"avgvol5daysN\"><strong>314,629</strong></td>\n",
              "</tr>\n",
              "</table>\n",
              "</div>\n",
              "<div class=\"w122 brdb\">\n",
              "<table border=\"0\" cellpadding=\"0\" cellspacing=\"0\" width=\"100%\">\n",
              "<tr>\n",
              "<td class=\"gL_11\">10-Day</td>\n",
              "<td align=\"right\" class=\"gD_11\" id=\"avgvol10daysN\"><strong>428,169</strong></td>\n",
              "</tr>\n",
              "</table>\n",
              "</div>\n",
              "<div class=\"w122\">\n",
              "<table border=\"0\" cellpadding=\"0\" cellspacing=\"0\" width=\"100%\">\n",
              "<tr>\n",
              "<td class=\"gL_11\">30-Day</td>\n",
              "<td align=\"right\" class=\"gD_11\" id=\"avgvol30daysN\"><strong>546,298</strong></td>\n",
              "</tr>\n",
              "</table>\n",
              "</div>\n",
              "</div>\n",
              "<div class=\"tooltip6\">\n",
              "<div class=\"title2 MB5\">VOLUME SHOCKER</div>\n",
              "<div class=\"w122 brdb\">\n",
              "<table border=\"0\" cellpadding=\"0\" cellspacing=\"0\" width=\"100%\">\n",
              "<tr>\n",
              "<td class=\"gL_11\">5-Day</td>\n",
              "<td align=\"right\" class=\"gD_11\" id=\"avgshkrvol5daysN\"><strong>314,629</strong></td>\n",
              "</tr>\n",
              "</table>\n",
              "</div>\n",
              "<div class=\"w122 brdb\">\n",
              "<table border=\"0\" cellpadding=\"0\" cellspacing=\"0\" width=\"100%\">\n",
              "<tr>\n",
              "<td class=\"gL_11\">10-Day</td>\n",
              "<td align=\"right\" class=\"gD_11\" id=\"avgshkrvol10daysN\"><strong>428,169</strong></td>\n",
              "</tr>\n",
              "</table>\n",
              "</div>\n",
              "<div class=\"w122\">\n",
              "<table border=\"0\" cellpadding=\"0\" cellspacing=\"0\" width=\"100%\">\n",
              "<tr>\n",
              "<td class=\"gL_11\">30-Day</td>\n",
              "<td align=\"right\" class=\"gD_11\" id=\"avgshkrvol30daysN\"><strong>546,298</strong></td>\n",
              "</tr>\n",
              "</table>\n",
              "</div>\n",
              "</div>\n",
              "</div>\n",
              "<div class=\"CL\"></div>\n",
              "</div>\n",
              "<div class=\"brdb PA5\">\n",
              "<div class=\"FL PR15 PL15 brdr\">\n",
              "<div class=\"PT3 PB3 UC gL_10\">Prev. Close</div>\n",
              "<div class=\"gD_12 PB3\" id=\"n_prevclose\"><strong>3281.35</strong></div>\n",
              "</div>\n",
              "<div class=\"FL PR15 PL15 brdr\">\n",
              "<div class=\"PT3 PB3 UC gL_10\">Open Price</div>\n",
              "<div class=\"gD_12 PB3\" id=\"n_open\"><strong>3299.90</strong></div>\n",
              "</div>\n",
              "<div class=\"FL PR15 PL15 brdr\">\n",
              "<div class=\"PT3 PB3 UC gL_10\">Bid PRICE (QTY.)</div>\n",
              "<div class=\"gD_12 PB3\" id=\"n_bidprice_qty\"><strong>0.00 (0)</strong></div>\n",
              "</div>\n",
              "<div class=\"FL PL15\">\n",
              "<div class=\"PT3 PB3 UC gL_10 w105\">Offer PRICE (Qty.)</div>\n",
              "<div class=\"gD_12 PB3 w105\" id=\"n_offerprice_qty\"><strong>3319.40 (1154)</strong></div>\n",
              "</div>\n",
              "<div class=\"CL\"></div>\n",
              "</div>\n",
              "<div class=\"PT10 clearfix\">\n",
              "<div class=\"FL PR10 PL15 brdr\">\n",
              "<div class=\"PB5 brdb\" style=\"width:172px\">\n",
              "<span class=\"gL_10 UC FL\"><strong>VWAP</strong></span>\n",
              "<span class=\"info_pc ML3 FL\" onclick=\"show_vwap_cp_chart('NSE');\" style=\"cursor:pointer;\"></span>\n",
              "<span class=\"gD_11 ML3\"><strong id=\"n_vwap_val\">3312.92</strong></span>\n",
              "<a class=\"ML3 FR\" href=\"#\" id=\"n_vwap_chart\"></a> </div>\n",
              "<div class=\"MT2 clearfix\">\n",
              "<div class=\"mdbox TAL PR\"><span class=\"gL_10 UC\">\n",
              "</span></div>\n",
              "<div class=\"FL ML10 w95 clearfix\">\n",
              "</div>\n",
              "</div>\n",
              "</div>\n",
              "<div class=\"FR\">\n",
              "<div class=\"PB3 gD_11\">\n",
              "<span class=\"gL_10 UC PR10\">Today's Low/High</span>\n",
              "<span class=\"PR5\" id=\"n_low_sh\">3262.35</span>\n",
              "<span class=\"stockLH\"> <span class=\"bar\" id=\"nse_range\" style=\"width:73%\"></span> </span>\n",
              "<span class=\"PL5\" id=\"n_high_sh\">3340.00</span>\n",
              "</div>\n",
              "<div class=\"PB3 gD_11\">\n",
              "<span class=\"gL_10 UC PR10\">52 Wk Low/High</span>\n",
              "<span class=\"PR5\" id=\"n_52low\">3033.75</span>\n",
              "<span class=\"stockLH\"> <span class=\"bar\" id=\"nse_52range\" style=\"width:27%\"></span> </span>\n",
              "<span class=\"PL5\" id=\"n_52high\">4091.95</span>\n",
              "</div>\n",
              "<div class=\"PB3 gD_11\">\n",
              "<span class=\"gL_10 UC PR10\">L/U Price Band</span>\n",
              "<span class=\"PR5\" id=\"n_low_price_limit\">2,953.25</span>\n",
              "<span class=\"stockLH\"> <span class=\"bar\" id=\"n_low_high_price_range\" style=\"width:%\"></span> </span>\n",
              "<span class=\"PL5\" id=\"n_high_price_limit\">3,609.45</span>\n",
              "</div>\n",
              "</div>\n",
              "</div>\n",
              "</div>\n",
              "<div class=\"CL\"></div>\n",
              "</div>"
            ],
            "text/plain": [
              "<IPython.core.display.HTML object>"
            ]
          },
          "execution_count": 19,
          "metadata": {},
          "output_type": "execute_result"
        }
      ]
    },
    {
      "cell_type": "markdown",
      "metadata": {
        "id": "EB77dxp18ItO"
      },
      "source": [
        "#### Finding elements by attributes"
      ]
    },
    {
      "cell_type": "code",
      "metadata": {
        "ExecuteTime": {
          "end_time": "2018-08-12T06:43:45.272056Z",
          "start_time": "2018-08-12T06:43:44.854286Z"
        },
        "id": "ElA7DvJR8ItP",
        "outputId": "cb6f4973-9e47-42f3-fc71-fa3a37c3f053"
      },
      "source": [
        "page_response = requests.get(\"https://www.moneycontrol.com/india/stockpricequote/auto-2-3-wheelers/heromotocorp/HHM\", timeout=240)\n",
        "page_content = BeautifulSoup(page_response.content, \"html.parser\")\n",
        "price_div = page_content.find(\"div\",attrs={\"id\":'b_changetext'})\n",
        "HTML(str(price_div))"
      ],
      "execution_count": null,
      "outputs": [
        {
          "data": {
            "text/html": [
              "<div class=\"FL gL_13 PT15\" id=\"b_changetext\"> <span class=\"gr_15 uparw_pc\"><strong>46.25</strong></span> (+1.41%)</div>"
            ],
            "text/plain": [
              "<IPython.core.display.HTML object>"
            ]
          },
          "execution_count": 6,
          "metadata": {},
          "output_type": "execute_result"
        }
      ]
    },
    {
      "cell_type": "markdown",
      "metadata": {
        "ExecuteTime": {
          "end_time": "2018-07-28T13:57:16.285488Z",
          "start_time": "2018-07-28T13:57:16.278031Z"
        },
        "id": "hGtsEECm8ItQ"
      },
      "source": [
        "```python\n",
        "page_content.find_all(\"p\")\n",
        "page_content.find(\"p\",attrs={\"class\":\"my-id\"})\n",
        "page_content.find_all(\"p\",attrs={\"id\":\"my-id\"})\n",
        "page_content.find_all(\"p\",attrs={\"id\":\"my-id\"})\n",
        "```\n",
        "\n",
        "`.find` finds the first occurence.\n",
        "You can check other find_* (find_next,find_previous etc)\n",
        "\n",
        "Once you have the element you can do `.text` to get its textual content.\n",
        "\n",
        "Like\n",
        "\n",
        "```python\n",
        "elem = page_content.find(\"p\",attrs={\"class\":\"my-id\"})\n",
        "text = elem.text\n",
        "```"
      ]
    },
    {
      "cell_type": "markdown",
      "metadata": {
        "id": "GGIWG4kR8ItR"
      },
      "source": [
        "#### Getting Children of an element in Array"
      ]
    },
    {
      "cell_type": "code",
      "metadata": {
        "ExecuteTime": {
          "end_time": "2018-08-12T06:43:49.351548Z",
          "start_time": "2018-08-12T06:43:49.345416Z"
        },
        "id": "tJ0Rnlcv8ItR",
        "outputId": "bcd64dec-f1e4-45f3-edbe-455820b86343"
      },
      "source": [
        "list(price_div.children)"
      ],
      "execution_count": null,
      "outputs": [
        {
          "data": {
            "text/plain": [
              "[' ', <span class=\"gr_15 uparw_pc\"><strong>46.25</strong></span>, ' (+1.41%)']"
            ]
          },
          "execution_count": 7,
          "metadata": {},
          "output_type": "execute_result"
        }
      ]
    },
    {
      "cell_type": "markdown",
      "metadata": {
        "id": "3NXiOGUe8ItR"
      },
      "source": [
        "As you see the first and last element is \"\\n\" and not actual HTML elements so we will filter them. The next function does that."
      ]
    },
    {
      "cell_type": "code",
      "metadata": {
        "ExecuteTime": {
          "end_time": "2018-08-12T10:51:19.905698Z",
          "start_time": "2018-08-12T10:51:19.896500Z"
        },
        "collapsed": true,
        "id": "CJl32juq8ItS"
      },
      "source": [
        "\n",
        "def get_children(html_content):\n",
        "    children = list()\n",
        "    for item in html_content.children:\n",
        "        if type(item)==bs4.element.Comment:\n",
        "            continue\n",
        "        if type(item)==bs4.element.Tag or len(str(item).replace(\"\\n\",\"\").strip())>0:\n",
        "            children.append(item)\n",
        "        \n",
        "    return children\n",
        "\n"
      ],
      "execution_count": null,
      "outputs": []
    },
    {
      "cell_type": "code",
      "metadata": {
        "ExecuteTime": {
          "end_time": "2018-08-12T10:51:21.478297Z",
          "start_time": "2018-08-12T10:51:21.470934Z"
        },
        "id": "Xij7IO8B8ItT",
        "outputId": "ec65c9f6-d56b-4886-c797-f1aab3586449"
      },
      "source": [
        "get_children(price_div)"
      ],
      "execution_count": null,
      "outputs": [
        {
          "data": {
            "text/plain": [
              "[<span class=\"gr_15 uparw_pc\"><strong>46.25</strong></span>, ' (+1.41%)']"
            ]
          },
          "execution_count": 38,
          "metadata": {},
          "output_type": "execute_result"
        }
      ]
    },
    {
      "cell_type": "markdown",
      "metadata": {
        "id": "dxcwBRJv8ItT"
      },
      "source": [
        "#### Parsing HTML tables and table like structures"
      ]
    },
    {
      "cell_type": "code",
      "metadata": {
        "ExecuteTime": {
          "end_time": "2018-08-12T10:51:32.034825Z",
          "start_time": "2018-08-12T10:51:32.027483Z"
        },
        "id": "H-0g_NLO8ItU",
        "outputId": "10d78bd4-e1e6-40fb-94b8-f83e630f22cb"
      },
      "source": [
        "html = '''\n",
        "<table>\n",
        "    <tr>\n",
        "        <td>Month</td>\n",
        "        <td>Price</td>\n",
        "    </tr>\n",
        "    <tr>\n",
        "        <td>July</td>\n",
        "        <td>2</td>\n",
        "    </tr>\n",
        "    <tr>\n",
        "        <td>August</td>\n",
        "        <td>4</td>\n",
        "    </tr>\n",
        "    <tr>\n",
        "        <td>September</td>\n",
        "        <td>3</td>\n",
        "    </tr>\n",
        "    <tr>\n",
        "        <td>October</td>\n",
        "        <td>2</td>\n",
        "    </tr>\n",
        "</table>\n",
        "\n",
        "'''\n",
        "\n",
        "HTML(html)"
      ],
      "execution_count": null,
      "outputs": [
        {
          "data": {
            "text/html": [
              "\n",
              "<table>\n",
              "    <tr>\n",
              "        <td>Month</td>\n",
              "        <td>Price</td>\n",
              "    </tr>\n",
              "    <tr>\n",
              "        <td>July</td>\n",
              "        <td>2</td>\n",
              "    </tr>\n",
              "    <tr>\n",
              "        <td>August</td>\n",
              "        <td>4</td>\n",
              "    </tr>\n",
              "    <tr>\n",
              "        <td>September</td>\n",
              "        <td>3</td>\n",
              "    </tr>\n",
              "    <tr>\n",
              "        <td>October</td>\n",
              "        <td>2</td>\n",
              "    </tr>\n",
              "</table>\n",
              "\n"
            ],
            "text/plain": [
              "<IPython.core.display.HTML object>"
            ]
          },
          "execution_count": 39,
          "metadata": {},
          "output_type": "execute_result"
        }
      ]
    },
    {
      "cell_type": "code",
      "metadata": {
        "ExecuteTime": {
          "end_time": "2018-08-12T10:51:32.917304Z",
          "start_time": "2018-08-12T10:51:32.811972Z"
        },
        "collapsed": true,
        "id": "xRmFDBwR8ItV"
      },
      "source": [
        "\n",
        "\n",
        "\n",
        "\n",
        "def get_table_simple(table,is_table_tag=True):\n",
        "    elems = table.find_all('tr') if is_table_tag else get_children(table)\n",
        "    table_data = list()\n",
        "    for row in elems:\n",
        "        \n",
        "        row_data = list()\n",
        "        row_elems = get_children(row)\n",
        "        for elem in row_elems:\n",
        "            text = elem.text.strip().replace(\"\\n\",\"\")\n",
        "            text = remove_multiple_spaces(text)\n",
        "            if len(text)==0:\n",
        "                continue\n",
        "            row_data.append(text)\n",
        "        table_data.append(row_data)\n",
        "    return table_data\n",
        "\n",
        "\n",
        "        "
      ],
      "execution_count": null,
      "outputs": []
    },
    {
      "cell_type": "code",
      "metadata": {
        "ExecuteTime": {
          "end_time": "2018-08-12T10:51:34.304326Z",
          "start_time": "2018-08-12T10:51:34.295358Z"
        },
        "id": "SnKBdyg98ItW",
        "outputId": "0fb07ce9-53df-41dc-dfb4-48f6b14ae55b"
      },
      "source": [
        "html = BeautifulSoup(html,\"html.parser\")\n",
        "get_table_simple(html)"
      ],
      "execution_count": null,
      "outputs": [
        {
          "data": {
            "text/plain": [
              "[['Month', 'Price'],\n",
              " ['July', '2'],\n",
              " ['August', '4'],\n",
              " ['September', '3'],\n",
              " ['October', '2']]"
            ]
          },
          "execution_count": 41,
          "metadata": {},
          "output_type": "execute_result"
        }
      ]
    },
    {
      "cell_type": "code",
      "metadata": {
        "ExecuteTime": {
          "end_time": "2018-08-12T10:51:37.466867Z",
          "start_time": "2018-08-12T10:51:37.456341Z"
        },
        "id": "J1omDphQ8ItW",
        "outputId": "743dcada-014b-4b26-bd7f-821900a35f36"
      },
      "source": [
        "html = '''\n",
        "<html>\n",
        "<body>\n",
        "<div id=\"table\" class=\"FL\" style=\"width:210px; padding-right:10px\">\n",
        "    <div class=\"PA7 brdb\">\n",
        "        <div class=\"FL gL_10 UC\">MARKET CAP (Rs Cr)</div>\n",
        "        <div class=\"FR gD_12\">63,783.84</div>\n",
        "        <div class=\"CL\"></div>\n",
        "    </div>\n",
        "    <div class=\"PA7 brdb\">\n",
        "        <div class=\"FL gL_10 UC\">P/E</div>\n",
        "        <div class=\"FR gD_12\">17.27</div>\n",
        "        <div class=\"CL\"></div>\n",
        "    </div>\n",
        "    <div class=\"PA7 brdb\">\n",
        "        <div class=\"FL gL_10 UC\">BOOK VALUE (Rs)</div>\n",
        "        <div class=\"FR gD_12\">589.29</div>\n",
        "        <div class=\"CL\"></div>\n",
        "    </div>\n",
        "    <div class=\"PA7 brdb\">\n",
        "        <div class=\"FL gL_10 UC\">DIV (%)</div>\n",
        "        <div class=\"FR gD_12\">4750.00%</div>\n",
        "        <div class=\"CL\"></div>\n",
        "    </div>\n",
        "    <div class=\"PA7 brdb\">\n",
        "        <div class=\"FL gL_10 UC\">Market Lot</div>\n",
        "        <div class=\"FR gD_12\">1</div>\n",
        "        <div class=\"CL\"></div>\n",
        "    </div>\n",
        "    <div class=\"PA7 brdb\">\n",
        "        <div class=\"FL gL_10 UC\">INDUSTRY P/E</div>\n",
        "        <div class=\"FR gD_12\">19.99</div>\n",
        "        <div class=\"CL\"></div>\n",
        "    </div>\n",
        "</div>\n",
        "</body>\n",
        "</html>\n",
        "'''\n",
        "HTML(html)"
      ],
      "execution_count": null,
      "outputs": [
        {
          "data": {
            "text/html": [
              "\n",
              "<html>\n",
              "<body>\n",
              "<div id=\"table\" class=\"FL\" style=\"width:210px; padding-right:10px\">\n",
              "    <div class=\"PA7 brdb\">\n",
              "        <div class=\"FL gL_10 UC\">MARKET CAP (Rs Cr)</div>\n",
              "        <div class=\"FR gD_12\">63,783.84</div>\n",
              "        <div class=\"CL\"></div>\n",
              "    </div>\n",
              "    <div class=\"PA7 brdb\">\n",
              "        <div class=\"FL gL_10 UC\">P/E</div>\n",
              "        <div class=\"FR gD_12\">17.27</div>\n",
              "        <div class=\"CL\"></div>\n",
              "    </div>\n",
              "    <div class=\"PA7 brdb\">\n",
              "        <div class=\"FL gL_10 UC\">BOOK VALUE (Rs)</div>\n",
              "        <div class=\"FR gD_12\">589.29</div>\n",
              "        <div class=\"CL\"></div>\n",
              "    </div>\n",
              "    <div class=\"PA7 brdb\">\n",
              "        <div class=\"FL gL_10 UC\">DIV (%)</div>\n",
              "        <div class=\"FR gD_12\">4750.00%</div>\n",
              "        <div class=\"CL\"></div>\n",
              "    </div>\n",
              "    <div class=\"PA7 brdb\">\n",
              "        <div class=\"FL gL_10 UC\">Market Lot</div>\n",
              "        <div class=\"FR gD_12\">1</div>\n",
              "        <div class=\"CL\"></div>\n",
              "    </div>\n",
              "    <div class=\"PA7 brdb\">\n",
              "        <div class=\"FL gL_10 UC\">INDUSTRY P/E</div>\n",
              "        <div class=\"FR gD_12\">19.99</div>\n",
              "        <div class=\"CL\"></div>\n",
              "    </div>\n",
              "</div>\n",
              "</body>\n",
              "</html>\n"
            ],
            "text/plain": [
              "<IPython.core.display.HTML object>"
            ]
          },
          "execution_count": 42,
          "metadata": {},
          "output_type": "execute_result"
        }
      ]
    },
    {
      "cell_type": "code",
      "metadata": {
        "ExecuteTime": {
          "end_time": "2018-08-12T10:51:43.906755Z",
          "start_time": "2018-08-12T10:51:43.898077Z"
        },
        "id": "bm6Fs1Cf8ItX",
        "outputId": "91eb3dd2-b8b4-44b1-c0f3-47d6b709d198"
      },
      "source": [
        "content = BeautifulSoup(html,\"html.parser\")\n",
        "get_table_simple(content.find(\"div\",attrs={\"id\":\"table\"}),is_table_tag=False)"
      ],
      "execution_count": null,
      "outputs": [
        {
          "data": {
            "text/plain": [
              "[['MARKET CAP (Rs Cr)', '63,783.84'],\n",
              " ['P/E', '17.27'],\n",
              " ['BOOK VALUE (Rs)', '589.29'],\n",
              " ['DIV (%)', '4750.00%'],\n",
              " ['Market Lot', '1'],\n",
              " ['INDUSTRY P/E', '19.99']]"
            ]
          },
          "execution_count": 44,
          "metadata": {},
          "output_type": "execute_result"
        }
      ]
    },
    {
      "cell_type": "markdown",
      "metadata": {
        "collapsed": true,
        "id": "jNiSW6gX8ItY"
      },
      "source": [
        "### Lib for fetching details"
      ]
    },
    {
      "cell_type": "code",
      "metadata": {
        "ExecuteTime": {
          "end_time": "2018-08-12T11:10:19.972046Z",
          "start_time": "2018-08-12T11:10:19.914179Z"
        },
        "code_folding": [],
        "collapsed": true,
        "id": "EZ2LfYYf8ItY"
      },
      "source": [
        "\n",
        "def get_scrip_info(url):\n",
        "    original_url = url\n",
        "    key_val_pairs = {}\n",
        "    \n",
        "    page_response = requests.get(url, timeout=240)\n",
        "    page_content = BeautifulSoup(page_response.content, \"html.parser\")\n",
        "    price = ffloat(page_content.find('div',attrs={'id':'Nse_Prc_tick_div'}).text)\n",
        "    name = page_content.find('h1',attrs={'class':'company_name'}).text\n",
        "\n",
        "    yearly_high = page_content.find('span',attrs={'id':'n_52high'}).text.strip()\n",
        "    yearly_low = page_content.find('span',attrs={'id':'n_52low'}).text.strip()\n",
        "    html_data_content = page_content.find('div', attrs={'id': 'mktdet_1'})\n",
        "\n",
        "    petable = get_table_simple(get_children(html_data_content)[0],is_table_tag=False)\n",
        "    pbtable = get_table_simple(get_children(html_data_content)[1],is_table_tag=False)\n",
        "    volume = ffloat(page_content.find('span',attrs={'id':'nse_volume'}).text)\n",
        "\n",
        "\n",
        "    data_table = list()\n",
        "    data_table.extend(petable)\n",
        "    data_table.extend(pbtable)\n",
        "\n",
        "    collector = {row[0]:ffloat(row[1]) if len(row)==2 else None for row in data_table}\n",
        "\n",
        "\n",
        "    key_val_pairs[\"pe\"] = collector['P/E']\n",
        "    key_val_pairs[\"book_value\"] = collector['BOOK VALUE (Rs)']\n",
        "    key_val_pairs[\"deliverables\"] = collector['DELIVERABLES (%)']\n",
        "    if 'MARKET CAP (Rs Cr)' in collector:\n",
        "        key_val_pairs[\"market_cap\"] = collector['MARKET CAP (Rs Cr)']\n",
        "    elif '**MARKET CAP (Rs Cr)' in collector:\n",
        "        key_val_pairs[\"market_cap\"] = collector['**MARKET CAP (Rs Cr)']\n",
        "    key_val_pairs[\"pb\"] = collector['PRICE/BOOK']\n",
        "    key_val_pairs['price'] = price\n",
        "    key_val_pairs['volume'] = volume\n",
        "    key_val_pairs[\"yearly_low\"] = ffloat(yearly_low)\n",
        "    key_val_pairs[\"yearly_high\"] = ffloat(yearly_high)\n",
        "    return key_val_pairs\n"
      ],
      "execution_count": null,
      "outputs": []
    },
    {
      "cell_type": "code",
      "metadata": {
        "ExecuteTime": {
          "end_time": "2018-08-12T11:10:21.544221Z",
          "start_time": "2018-08-12T11:10:20.553048Z"
        },
        "id": "g2ejDpp18ItY",
        "outputId": "2ca971c8-69bb-4b88-933f-71d05a8c4a22"
      },
      "source": [
        "get_scrip_info(\"https://www.moneycontrol.com/india/stockpricequote/auto-2-3-wheelers/heromotocorp/HHM\")"
      ],
      "execution_count": null,
      "outputs": [
        {
          "data": {
            "text/plain": [
              "{'book_value': 589.29,\n",
              " 'deliverables': 45.79,\n",
              " 'market_cap': 66332.16,\n",
              " 'pb': 5.64,\n",
              " 'pe': 17.96,\n",
              " 'price': 3319.4,\n",
              " 'volume': 356538.0,\n",
              " 'yearly_high': 4091.95,\n",
              " 'yearly_low': 3033.75}"
            ]
          },
          "execution_count": 64,
          "metadata": {},
          "output_type": "execute_result"
        }
      ]
    },
    {
      "cell_type": "markdown",
      "metadata": {
        "id": "Vf_ZTOw_8ItZ"
      },
      "source": [
        "### References"
      ]
    },
    {
      "cell_type": "markdown",
      "metadata": {
        "id": "mk3djowg8ItZ"
      },
      "source": [
        "- https://ntguardian.wordpress.com/2016/09/19/introduction-stock-market-data-python-1/\n",
        "- https://mapattack.wordpress.com/2017/02/14/python-for-stocks-2/\n",
        "\n",
        "more involved articles:\n",
        "\n",
        " - https://ntguardian.wordpress.com/2018/07/17/stock-data-analysis-python-v2/\n",
        " - https://nextjournal.com/hisham/stock-market\n",
        " "
      ]
    },
    {
      "cell_type": "code",
      "metadata": {
        "collapsed": true,
        "id": "cvl8FQJL8ItZ"
      },
      "source": [
        ""
      ],
      "execution_count": null,
      "outputs": []
    }
  ]
}